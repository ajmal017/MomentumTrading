{
 "cells": [
  {
   "cell_type": "code",
   "execution_count": 1,
   "metadata": {},
   "outputs": [],
   "source": [
    "import math\n",
    "import json\n",
    "import csv\n",
    "import pandas as pd\n",
    "import numpy as np\n",
    "import matplotlib.mlab as mlab\n",
    "import matplotlib.pyplot as plt\n",
    "import os\n",
    "import glob\n",
    "import datetime\n",
    "import copy\n",
    "from random import shuffle\n",
    "import random"
   ]
  },
  {
   "cell_type": "code",
   "execution_count": 2,
   "metadata": {},
   "outputs": [],
   "source": [
    "#one bin means no seperation\n",
    "#two bins means seperation based on up/down\n",
    "#n bins partitions [-3,3] into n-2 different equal sections with a bin for [-inf,-3] and [3,inf]\n",
    "#returns an ordered pair representing the bin\n",
    "def get2DBin(percents, numBins):\n",
    "    #hardCode 1 bin and 2 bins\n",
    "    if numBins == 1:\n",
    "        return (0,0)\n",
    "    elif numBins == 2:\n",
    "        return (int(percents[0] >0), int(percents[1]> 0))\n",
    "    else:\n",
    "        daily = 0\n",
    "        weekly = 0\n",
    "        binWidth = 6/(numBins-2)\n",
    "        binHeight = 12/(numBins-2)\n",
    "        for i in range(numBins-1):\n",
    "            if percents[0] > -3+binWidth*i:\n",
    "                daily = i+1\n",
    "            if percents[1] > -6+binHeight*i:\n",
    "                weekly = i+1\n",
    "    return daily, weekly"
   ]
  },
  {
   "cell_type": "code",
   "execution_count": 3,
   "metadata": {},
   "outputs": [],
   "source": [
    "#result is the current stocks change in percent - the ops stock change in percent\n",
    "def upDateElo(currentElo, opsElo, result, flexibility):\n",
    "    variationFromResult = result-(currentElo-opsElo)\n",
    "    return currentElo + flexibility*variationFromResult"
   ]
  },
  {
   "cell_type": "code",
   "execution_count": null,
   "metadata": {},
   "outputs": [],
   "source": []
  }
 ],
 "metadata": {
  "kernelspec": {
   "display_name": "Python 3",
   "language": "python",
   "name": "python3"
  },
  "language_info": {
   "codemirror_mode": {
    "name": "ipython",
    "version": 3
   },
   "file_extension": ".py",
   "mimetype": "text/x-python",
   "name": "python",
   "nbconvert_exporter": "python",
   "pygments_lexer": "ipython3",
   "version": "3.7.2"
  }
 },
 "nbformat": 4,
 "nbformat_minor": 2
}
