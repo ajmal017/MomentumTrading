{
 "cells": [
  {
   "cell_type": "code",
   "execution_count": 2,
   "metadata": {},
   "outputs": [],
   "source": [
    "import math\n",
    "import json\n",
    "import csv\n",
    "import pandas as pd\n",
    "import numpy as np\n",
    "import matplotlib.mlab as mlab\n",
    "import matplotlib.pyplot as plt\n",
    "import os\n",
    "import glob\n",
    "import datetime\n",
    "import copy"
   ]
  },
  {
   "cell_type": "code",
   "execution_count": 14,
   "metadata": {},
   "outputs": [],
   "source": [
    "#could have other hyperparameters in main\n",
    "\n",
    "def ewma_returns(stocks):\n",
    "    dates = set()\n",
    "    filenames = []\n",
    "    #for filename in os.listdir(\"./SP500Stocks\"):\n",
    "    for filename in os.listdir(\"./SmallStocks\"):\n",
    "        if len(stocks) == 0:\n",
    "            if \"csv\" in filename:\n",
    "                filenames.append(filename)\n",
    "        else:\n",
    "            if \"csv\" in filename and filename[:-4] in stocks:\n",
    "                filenames.append(filename)\n",
    "    #format for consolidate info is {name: {dates: {date, open}, }}\n",
    "    Histories = {}\n",
    "    Exp_weighted = {}\n",
    "    for file in filenames:\n",
    "        \n",
    "        #with open(\"SP500Stocks/\"+file, 'r') as f:\n",
    "        with open(\"SmallStocks/\"+file, 'r') as f: \n",
    "            reader = csv.reader(f)\n",
    "            next(reader)  # gets the first line\n",
    "            previousClose = next(reader)[4]\n",
    "            \n",
    "            history = {}\n",
    "\n",
    "            for row in reader:\n",
    "\n",
    "                dates.add(row[0])\n",
    "     \n",
    "                try:\n",
    "                    history[row[0]] = (float(row[4])-float(previousClose))/float(previousClose)*100\n",
    "                except:\n",
    "                    pass\n",
    "                previousClose = row[4]\n",
    "                \n",
    "                \n",
    "                #exp_avg=df.ewm(span=30,adjust=False, ignore_na=True).mean()\n",
    "                #history[row[1]] = exp_avg\n",
    "            #df = pd.DataFrame.from_dict(history)\n",
    "            \n",
    "            #test = range(len(history.keys()))\n",
    "            df = pd.DataFrame(data = history, index = ['returns']).transpose()\n",
    "            #print(df)\n",
    "            exp_avg=df.ewm(span = 30, min_periods=30, ignore_na=True).mean()\n",
    "            \n",
    "            exp_avg = exp_avg['returns'].values\n",
    "            a = list(df.index)\n",
    "            exp_avg_dict = {}\n",
    "            exp_avg_dict = dict(zip(a,exp_avg))\n",
    "            \n",
    "            pop_list = []\n",
    "            \n",
    "            for key in exp_avg_dict.keys():\n",
    "                if math.isnan(exp_avg_dict[key]):\n",
    "                    pop_list.append(key)\n",
    "                    \n",
    "            for key in pop_list:\n",
    "                exp_avg_dict.pop(key)\n",
    "\n",
    "            \n",
    "            Exp_weighted[file[:-4]] = exp_avg_dict\n",
    "            \n",
    "            Histories[file[:-4]] = history\n",
    "            \n",
    "            #break  \n",
    "            \n",
    "    sortedDates = [date for date in dates]\n",
    "    sortedDates = sorted(sortedDates, key=lambda x: datetime.datetime.strptime(x, '%Y-%m-%d'))\n",
    "    return Histories, sortedDates, Exp_weighted\n"
   ]
  },
  {
   "cell_type": "code",
   "execution_count": 15,
   "metadata": {},
   "outputs": [],
   "source": [
    "a,b,c = ewma_returns([])"
   ]
  },
  {
   "cell_type": "code",
   "execution_count": null,
   "metadata": {},
   "outputs": [],
   "source": []
  },
  {
   "cell_type": "code",
   "execution_count": 16,
   "metadata": {},
   "outputs": [],
   "source": [
    "def highest_returns(input_dict):\n",
    "    \n",
    "    portfolio = 100\n",
    "    portfolio_tracker = []\n",
    "    for date in input_dict['A'].keys():\n",
    "        daily_returns_dict = {}\n",
    "        long_trading_list = []\n",
    "        short_trading_list = []\n",
    "        try:\n",
    "            for ticker in input_dict.keys():\n",
    "                daily_pct_return = input_dict[ticker][date]\n",
    "                daily_returns_dict[ticker] = daily_pct_return\n",
    "        except:\n",
    "            pass\n",
    "        \n",
    "        float_list = []\n",
    "        \n",
    "        for i in daily_returns_dict.keys():\n",
    "            float_list.append(float(daily_returns_dict[i]))\n",
    "            \n",
    "        for i in daily_returns_dict.keys():\n",
    "            if float(daily_returns_dict[i]) >np.percentile(float_list, 95):\n",
    "                long_trading_list.append(i)\n",
    "            #if float(daily_returns_dict[i]) <np.percentile(float_list, 5):\n",
    "                #short_trading_list.append(i)\n",
    "                \n",
    "        trades = len(long_trading_list) + len(short_trading_list)\n",
    "        #print(long_trading_list)\n",
    "        #print(short_trading_list)\n",
    "        trade_cap = portfolio/trades\n",
    "        #print(trade_cap)\n",
    "        total = 0\n",
    "        try:\n",
    "            date_index = b.index(date)\n",
    "            new_date = b[date_index+1]\n",
    "        \n",
    "            for i in long_trading_list:\n",
    "                total += trade_cap *(1+float(a[i][new_date])/100)\n",
    "            for i in short_trading_list:\n",
    "                total += trade_cap *(1-float(a[i][new_date])/100)\n",
    "                \n",
    "        except:\n",
    "            pass\n",
    "        portfolio_tracker.append(total)\n",
    "        portfolio = total\n",
    "        #break\n",
    "        #print(date) \n",
    "        #print(portfolio_tracker)\n",
    "    return portfolio_tracker[:-1]\n",
    "            \n",
    "            \n",
    "                \n",
    "\n",
    "\n",
    "\n",
    "\n"
   ]
  },
  {
   "cell_type": "code",
   "execution_count": 17,
   "metadata": {},
   "outputs": [],
   "source": [
    "f = highest_returns(c)"
   ]
  },
  {
   "cell_type": "code",
   "execution_count": 18,
   "metadata": {},
   "outputs": [
    {
     "data": {
      "text/plain": [
       "Text(0, 0.5, 'Profits')"
      ]
     },
     "execution_count": 18,
     "metadata": {},
     "output_type": "execute_result"
    },
    {
     "data": {
      "image/png": "[encoded data removed]",
      "text/plain": [
       "<Figure size 432x288 with 1 Axes>"
      ]
     },
     "metadata": {
      "needs_background": "light"
     },
     "output_type": "display_data"
    }
   ],
   "source": [
    "length = len(f)\n",
    "timesteps = [j for j in range(length)]\n",
    "plt.plot(timesteps, f)\n",
    "plt.xlabel('EWMA Backtest')\n",
    "plt.ylabel('Profits')"
   ]
  },
  {
   "cell_type": "code",
   "execution_count": 19,
   "metadata": {},
   "outputs": [],
   "source": [
    "def ma_returns(stocks):\n",
    "    dates = set()\n",
    "    filenames = []\n",
    "    #for filename in os.listdir(\"./SP500Stocks\"):\n",
    "    for filename in os.listdir(\"./SmallStocks\"):\n",
    "        if len(stocks) == 0:\n",
    "            if \"csv\" in filename:\n",
    "                filenames.append(filename)\n",
    "        else:\n",
    "            if \"csv\" in filename and filename[:-4] in stocks:\n",
    "                filenames.append(filename)\n",
    "    #format for consolidate info is {name: {dates: {date, open}, }}\n",
    "    Histories = {}\n",
    "    normal_weighted = {}\n",
    "    for file in filenames:\n",
    "        \n",
    "        #with open(\"SP500Stocks/\"+file, 'r') as f:\n",
    "        with open(\"SmallStocks/\"+file, 'r') as f: \n",
    "            reader = csv.reader(f)\n",
    "            next(reader)  # gets the first line\n",
    "            previousClose = next(reader)[4]\n",
    "            \n",
    "            history = {}\n",
    "\n",
    "            for row in reader:\n",
    "\n",
    "                dates.add(row[0])\n",
    "     \n",
    "                try:\n",
    "                    history[row[0]] = (float(row[4])-float(previousClose))/float(previousClose)*100\n",
    "                except:\n",
    "                    pass\n",
    "                previousClose = row[4]\n",
    "                \n",
    "                \n",
    "                #exp_avg=df.ewm(span=30,adjust=False, ignore_na=True).mean()\n",
    "                #history[row[1]] = exp_avg\n",
    "            #df = pd.DataFrame.from_dict(history)\n",
    "            \n",
    "            #test = range(len(history.keys()))\n",
    "            df = pd.DataFrame(data = history, index = ['returns']).transpose()\n",
    "            #print(df)\n",
    "            mov_avg=df.rolling(30, min_periods=30).mean()\n",
    "            \n",
    "            mov_avg = mov_avg['returns'].values\n",
    "            a = list(df.index)\n",
    "            mov_avg_dict = {}\n",
    "            mov_avg_dict = dict(zip(a,mov_avg))\n",
    "            \n",
    "            pop_list = []\n",
    "            \n",
    "            for key in mov_avg_dict.keys():\n",
    "                if math.isnan(mov_avg_dict[key]):\n",
    "                    pop_list.append(key)\n",
    "                    \n",
    "            for key in pop_list:\n",
    "                mov_avg_dict.pop(key)\n",
    "\n",
    "            \n",
    "            normal_weighted[file[:-4]] = mov_avg_dict\n",
    "            \n",
    "            Histories[file[:-4]] = history\n",
    "            \n",
    "            #break  \n",
    "            \n",
    "    sortedDates = [date for date in dates]\n",
    "    sortedDates = sorted(sortedDates, key=lambda x: datetime.datetime.strptime(x, '%Y-%m-%d'))\n",
    "    return Histories, sortedDates, normal_weighted\n",
    "\n",
    "q,r,s = ma_returns([])\n"
   ]
  },
  {
   "cell_type": "code",
   "execution_count": 20,
   "metadata": {},
   "outputs": [
    {
     "data": {
      "text/plain": [
       "Text(0, 0.5, 'Profits')"
      ]
     },
     "execution_count": 20,
     "metadata": {},
     "output_type": "execute_result"
    },
    {
     "data": {
      "image/png": "[encoded data removed]",
      "text/plain": [
       "<Figure size 432x288 with 1 Axes>"
      ]
     },
     "metadata": {
      "needs_background": "light"
     },
     "output_type": "display_data"
    }
   ],
   "source": [
    "g = highest_returns(s)\n",
    "length = len(g)\n",
    "timesteps = [j for j in range(length)]\n",
    "plt.plot(timesteps, g)\n",
    "plt.xlabel('EWMA Backtest')\n",
    "plt.ylabel('Profits')"
   ]
  },
  {
   "cell_type": "code",
   "execution_count": 36,
   "metadata": {},
   "outputs": [],
   "source": [
    "import statistics as st\n",
    "def sharpe(portfolio):\n",
    "    daily_percent_return = []\n",
    "    for i in range(1,len(portfolio)):\n",
    "        daily_return = (portfolio[i]-portfolio[i-1])/portfolio[i-1]\n",
    "        daily_percent_return.append(daily_return)\n",
    "        \n",
    "    stdev = st.pstdev(daily_percent_return)\n",
    "    annualized_vol = math.sqrt(252) * stdev\n",
    "    \n",
    "    total_return = (portfolio[-1]-portfolio[0])/portfolio[0] \n",
    "    annualized_return = (1+total_return) ** (252/len(portfolio)) - 1\n",
    "        \n",
    "    return annualized_return/annualized_vol\n",
    "\n",
    "def sortino(portfolio):\n",
    "    daily_percent_return = []\n",
    "    for i in range(1,len(portfolio)):\n",
    "        daily_return = (portfolio[i]-portfolio[i-1])/portfolio[i-1]\n",
    "        daily_percent_return.append(daily_return)\n",
    "        \n",
    "    #print(daily_percent_return)\n",
    "    daily_negative_return = []\n",
    "    for i in (daily_percent_return):\n",
    "        \n",
    "        if i < 0:\n",
    "            daily_negative_return.append(i)\n",
    "            \n",
    "    #print(daily_negative_return)\n",
    "    stdev = st.pstdev(daily_negative_return)\n",
    "    annualized_vol = math.sqrt(252) * stdev\n",
    "    \n",
    "    total_return = (portfolio[-1]-portfolio[0])/portfolio[0] \n",
    "    annualized_return = (1+total_return) ** (252/len(portfolio)) - 1\n",
    "        \n",
    "    return (annualized_return-.03)/annualized_vol"
   ]
  },
  {
   "cell_type": "code",
   "execution_count": 37,
   "metadata": {},
   "outputs": [
    {
     "name": "stdout",
     "output_type": "stream",
     "text": [
      "0.7600893909533325\n",
      "0.9260404257485669\n"
     ]
    }
   ],
   "source": [
    "print(sharpe(f))\n",
    "print(sortino(f))"
   ]
  },
  {
   "cell_type": "code",
   "execution_count": 38,
   "metadata": {},
   "outputs": [
    {
     "name": "stdout",
     "output_type": "stream",
     "text": [
      "1058.8390931938939\n",
      "1091.1775108131262\n"
     ]
    }
   ],
   "source": [
    "print(g[-1])\n",
    "print(f[-1])"
   ]
  },
  {
   "cell_type": "code",
   "execution_count": 39,
   "metadata": {},
   "outputs": [
    {
     "name": "stdout",
     "output_type": "stream",
     "text": [
      "0.7389891060978748\n",
      "0.9723954319079523\n"
     ]
    }
   ],
   "source": [
    "print(sharpe(g))\n",
    "print(sortino(g))"
   ]
  },
  {
   "cell_type": "code",
   "execution_count": 40,
   "metadata": {},
   "outputs": [
    {
     "data": {
      "text/plain": [
       "Text(0, 0.5, 'Profits')"
      ]
     },
     "execution_count": 40,
     "metadata": {},
     "output_type": "execute_result"
    },
    {
     "data": {
      "image/png": "[encoded data removed]",
      "text/plain": [
       "<Figure size 432x288 with 1 Axes>"
      ]
     },
     "metadata": {
      "needs_background": "light"
     },
     "output_type": "display_data"
    }
   ],
   "source": [
    "length = len(g)\n",
    "timesteps = [j for j in range(length)]\n",
    "plt.plot(timesteps, g)\n",
    "plt.xlabel('Standard MA Backtest')\n",
    "plt.ylabel('Profits')"
   ]
  },
  {
   "cell_type": "code",
   "execution_count": 42,
   "metadata": {},
   "outputs": [],
   "source": [
    "#hyperparameter testing\n",
    "#parameters - rolling window size, top quintile size, cutoff value\n",
    "#train on 1900 days, test on 500\n",
    "\n",
    "#takes in window size\n",
    "def ewma_returns1(stocks,window_size):\n",
    "    dates = set()\n",
    "    filenames = []\n",
    "    #for filename in os.listdir(\"./SP500Stocks\"):\n",
    "    for filename in os.listdir(\"./SmallStocks\"):\n",
    "        if len(stocks) == 0:\n",
    "            if \"csv\" in filename:\n",
    "                filenames.append(filename)\n",
    "        else:\n",
    "            if \"csv\" in filename and filename[:-4] in stocks:\n",
    "                filenames.append(filename)\n",
    "    #format for consolidate info is {name: {dates: {date, open}, }}\n",
    "    Histories = {}\n",
    "    Exp_weighted = {}\n",
    "    for file in filenames:\n",
    "        \n",
    "        #with open(\"SP500Stocks/Filtered/\"+file, 'r') as f:\n",
    "        with open(\"SmallStocks/\"+file, 'r') as f: \n",
    "            reader = csv.reader(f)\n",
    "            next(reader)  # gets the first line\n",
    "            previousClose = next(reader)[4]\n",
    "            \n",
    "            history = {}\n",
    "\n",
    "            for row in reader:\n",
    "\n",
    "                dates.add(row[0])\n",
    "     \n",
    "                try:\n",
    "                    history[row[0]] = (float(row[4])-float(previousClose))/float(previousClose)*100\n",
    "                except:\n",
    "                    pass\n",
    "                previousClose = row[4]\n",
    "                \n",
    "                \n",
    "                \n",
    "            df = pd.DataFrame(data = history, index = ['returns']).transpose()\n",
    "            \n",
    "            exp_avg=df.ewm(span = window_size, min_periods=window_size, ignore_na=True).mean()\n",
    "            \n",
    "            exp_avg = exp_avg['returns'].values\n",
    "            a = list(df.index)\n",
    "            exp_avg_dict = {}\n",
    "            exp_avg_dict = dict(zip(a,exp_avg))\n",
    "            \n",
    "            pop_list = []\n",
    "            \n",
    "            for key in exp_avg_dict.keys():\n",
    "                if math.isnan(exp_avg_dict[key]):\n",
    "                    pop_list.append(key)\n",
    "                    \n",
    "            for key in pop_list:\n",
    "                exp_avg_dict.pop(key)\n",
    "\n",
    "            \n",
    "            Exp_weighted[file[:-4]] = exp_avg_dict\n",
    "            \n",
    "            Histories[file[:-4]] = history\n",
    "            \n",
    "              \n",
    "            \n",
    "    sortedDates = [date for date in dates]\n",
    "    sortedDates = sorted(sortedDates, key=lambda x: datetime.datetime.strptime(x, '%Y-%m-%d'))\n",
    "    return Histories, sortedDates, Exp_weighted\n",
    "\n",
    "testa_20, testb_20, testc_20 = ewma_returns1([],20)\n",
    "testa_10, testb_10,testc_10 = ewma_returns1([],10)\n",
    "testa_15, testb_15, testc_15 = ewma_returns1([],15)\n",
    "testa_25, testb_25, testc_25 = ewma_returns1([],25)\n",
    "testa_30, testb_30, testc_30 = ewma_returns1([],30)"
   ]
  },
  {
   "cell_type": "code",
   "execution_count": 103,
   "metadata": {},
   "outputs": [],
   "source": [
    "def highest_returns1(input_dict,input_returns):\n",
    "    \n",
    "    portfolio = 100\n",
    "    portfolio_tracker = []\n",
    "    \n",
    "    for date in input_dict['A'].keys():\n",
    "        date_index = b.index(date)\n",
    "     \n",
    "        if date_index < 1900:\n",
    "            daily_returns_dict = {}            \n",
    "            long_trading_list = []\n",
    "            short_trading_list = []\n",
    "            try:                \n",
    "                for ticker in input_dict.keys():\n",
    "                    daily_pct_return = input_dict[ticker][date]\n",
    "                    daily_returns_dict[ticker] = daily_pct_return\n",
    "            except:\n",
    "                pass\n",
    "       \n",
    "            float_list = []\n",
    "        \n",
    "            for i in daily_returns_dict.keys():\n",
    "                float_list.append(float(daily_returns_dict[i]))\n",
    "            \n",
    "            for i in daily_returns_dict.keys():\n",
    "                if float(daily_returns_dict[i]) >np.percentile(float_list, 95):\n",
    "                    long_trading_list.append(i)\n",
    "            #if float(daily_returns_dict[i]) <np.percentile(float_list, 5):\n",
    "                #short_trading_list.append(i)\n",
    "                \n",
    "            trades = len(long_trading_list) + len(short_trading_list)\n",
    "            #print(long_trading_list)\n",
    "            #print(short_trading_list)\n",
    "            trade_cap = portfolio/trades\n",
    "            #print(trade_cap)\n",
    "            total = 0            \n",
    "            try:\n",
    "                date_index = b.index(date)\n",
    "                new_date = b[date_index+1]\n",
    "        \n",
    "                for i in long_trading_list:\n",
    "                    total += trade_cap *(1+float(input_returns[i][new_date])/100)\n",
    "                for i in short_trading_list:\n",
    "                    total += trade_cap *(1-float(input_returns[i][new_date])/100)\n",
    "                \n",
    "            except:\n",
    "                pass\n",
    "            portfolio_tracker.append(total)            \n",
    "            portfolio = total\n",
    "            #break\n",
    "            #print(date)             \n",
    "            #print(portfolio_tracker)\n",
    "    return portfolio_tracker[:-1]\n",
    "    \n",
    "window_test_list = []\n",
    "portfolio_10 = highest_returns1(testc_10, testa_10)\n",
    "portfolio_15 = highest_returns1(testc_15, testa_15)\n",
    "portfolio_20 = highest_returns1(testc_20, testa_20)\n",
    "portfolio_25 = highest_returns1(testc_25, testa_25)\n",
    "portfolio_30 = highest_returns1(testc_30, testa_30)\n",
    "window_test_list.extend((portfolio_10,portfolio_15,portfolio_20,portfolio_25,portfolio_30))"
   ]
  },
  {
   "cell_type": "code",
   "execution_count": 104,
   "metadata": {},
   "outputs": [
    {
     "name": "stdout",
     "output_type": "stream",
     "text": [
      "476.042283852811\n",
      "623.560313199429\n",
      "1024.1954587770147\n",
      "809.3321133802771\n",
      "1126.4089619820304\n"
     ]
    }
   ],
   "source": [
    "for i in window_test_list:\n",
    "    print(i[-1])"
   ]
  },
  {
   "cell_type": "code",
   "execution_count": 105,
   "metadata": {},
   "outputs": [],
   "source": [
    "#test percentile cutoff\n",
    "def highest_returns2(input_dict,input_returns,percentile):\n",
    "    portfolio = 100\n",
    "    portfolio_tracker = []\n",
    "    \n",
    "    for date in input_dict['A'].keys():\n",
    "        date_index = b.index(date)\n",
    "     \n",
    "        if date_index < 1900:\n",
    "            daily_returns_dict = {}            \n",
    "            long_trading_list = []\n",
    "            short_trading_list = []\n",
    "            try:                \n",
    "                for ticker in input_dict.keys():\n",
    "                    daily_pct_return = input_dict[ticker][date]\n",
    "                    daily_returns_dict[ticker] = daily_pct_return\n",
    "            except:\n",
    "                pass\n",
    "       \n",
    "            float_list = []\n",
    "        \n",
    "            for i in daily_returns_dict.keys():\n",
    "                float_list.append(float(daily_returns_dict[i]))\n",
    "            \n",
    "            for i in daily_returns_dict.keys():\n",
    "                if float(daily_returns_dict[i]) >np.percentile(float_list, percentile):\n",
    "                    long_trading_list.append(i)\n",
    "            #if float(daily_returns_dict[i]) <np.percentile(float_list, 5):\n",
    "                #short_trading_list.append(i)\n",
    "                \n",
    "            trades = len(long_trading_list) + len(short_trading_list)\n",
    "            #print(long_trading_list)\n",
    "            #print(short_trading_list)\n",
    "            trade_cap = portfolio/trades\n",
    "            #print(trade_cap)\n",
    "            total = 0            \n",
    "            try:\n",
    "                date_index = b.index(date)\n",
    "                new_date = b[date_index+1]\n",
    "        \n",
    "                for i in long_trading_list:\n",
    "                    total += trade_cap *(1+float(input_returns[i][new_date])/100)\n",
    "                for i in short_trading_list:\n",
    "                    total += trade_cap *(1-float(input_returns[i][new_date])/100)\n",
    "                \n",
    "            except:\n",
    "                pass\n",
    "            portfolio_tracker.append(total)            \n",
    "            portfolio = total\n",
    "            #break\n",
    "            #print(date)             \n",
    "            #print(portfolio_tracker)\n",
    "    return portfolio_tracker[:-1]\n",
    "   \n",
    "    \n",
    "percentile_test_list = []\n",
    "portfolio_80_30 = highest_returns2(testc_30, testa_30, 80)\n",
    "portfolio_85_30 = highest_returns2(testc_30, testa_30, 85)\n",
    "portfolio_90_30 = highest_returns2(testc_30, testa_30, 90)\n",
    "portfolio_95_30 = highest_returns2(testc_30, testa_30, 95)\n",
    "portfolio_75_30 = highest_returns2(testc_30, testa_30, 75)\n",
    "\n",
    "portfolio_80_20 = highest_returns2(testc_20, testa_20, 80)\n",
    "portfolio_85_20 = highest_returns2(testc_20, testa_20, 85)\n",
    "portfolio_90_20 = highest_returns2(testc_20, testa_20, 90)\n",
    "portfolio_95_20 = highest_returns2(testc_20, testa_20, 95)\n",
    "portfolio_75_20 = highest_returns2(testc_20, testa_20, 75)\n",
    "\n",
    "portfolio_80_10 = highest_returns2(testc_10, testa_10, 80)\n",
    "portfolio_85_10 = highest_returns2(testc_10, testa_10, 85)\n",
    "portfolio_90_10 = highest_returns2(testc_10, testa_10, 90)\n",
    "portfolio_95_10 = highest_returns2(testc_10, testa_10, 95)\n",
    "portfolio_75_10 = highest_returns2(testc_10, testa_10, 75)\n",
    "\n",
    "portfolio_80_25 = highest_returns2(testc_25, testa_25, 80)\n",
    "portfolio_85_25 = highest_returns2(testc_25, testa_25, 85)\n",
    "portfolio_90_25 = highest_returns2(testc_25, testa_25, 90)\n",
    "portfolio_95_25 = highest_returns2(testc_25, testa_25, 95)\n",
    "portfolio_75_25 = highest_returns2(testc_25, testa_25, 75)\n",
    "\n",
    "portfolio_80_15 = highest_returns2(testc_15, testa_15, 80)\n",
    "portfolio_85_15 = highest_returns2(testc_15, testa_15, 85)\n",
    "portfolio_90_15 = highest_returns2(testc_15, testa_15, 90)\n",
    "portfolio_95_15 = highest_returns2(testc_15, testa_15, 95)\n",
    "portfolio_75_15 = highest_returns2(testc_15, testa_15, 75)\n",
    "\n",
    "percentile_test_list.extend((portfolio_80_30,portfolio_85_30,portfolio_90_30,portfolio_95_30,portfolio_75_30))\n",
    "percentile_test_list.extend((portfolio_80_20,portfolio_85_20,portfolio_90_20,portfolio_95_20,portfolio_75_20))\n",
    "percentile_test_list.extend((portfolio_80_10,portfolio_85_10,portfolio_90_10,portfolio_95_10,portfolio_75_10))\n",
    "percentile_test_list.extend((portfolio_80_15,portfolio_85_15,portfolio_90_15,portfolio_95_15,portfolio_75_15))\n",
    "percentile_test_list.extend((portfolio_80_25,portfolio_85_25,portfolio_90_25,portfolio_95_25,portfolio_75_25))"
   ]
  },
  {
   "cell_type": "code",
   "execution_count": 106,
   "metadata": {},
   "outputs": [
    {
     "name": "stdout",
     "output_type": "stream",
     "text": [
      "609.3850531187957\n",
      "609.3850531187957\n",
      "1126.4089619820304\n",
      "1126.4089619820304\n",
      "501.55338344809275\n",
      "700.4431820479956\n",
      "700.4431820479956\n",
      "1024.1954587770147\n",
      "1024.1954587770147\n",
      "520.3958185639267\n",
      "612.5039492799447\n",
      "612.5039492799447\n",
      "476.042283852811\n",
      "476.042283852811\n",
      "680.7693012833151\n",
      "696.6939937158911\n",
      "696.6939937158911\n",
      "623.560313199429\n",
      "623.560313199429\n",
      "472.0937986879554\n",
      "726.8491581430237\n",
      "726.8491581430237\n",
      "809.3321133802771\n",
      "809.3321133802771\n",
      "547.7255884300497\n"
     ]
    }
   ],
   "source": [
    "for i in percentile_test_list:\n",
    "    print(i[-1])"
   ]
  },
  {
   "cell_type": "code",
   "execution_count": 108,
   "metadata": {},
   "outputs": [
    {
     "name": "stdout",
     "output_type": "stream",
     "text": [
      "0.2595445178916006\n",
      "0.23534617082298673\n"
     ]
    }
   ],
   "source": [
    "#come up with cutoffs \n",
    "data_list = []\n",
    "for sub_dict in testc_30.keys():\n",
    "    count = 0\n",
    "    while count < 1900:\n",
    "        for key in testc_30[sub_dict].keys():\n",
    "            count += 1\n",
    "            if testc_30[sub_dict][key] > 0:\n",
    "                data_list.append(testc_30[sub_dict][key])\n",
    "mean = np.mean(data_list)\n",
    "sigma = st.pstdev(data_list)\n",
    "print(mean)\n",
    "print(sigma)"
   ]
  },
  {
   "cell_type": "code",
   "execution_count": 119,
   "metadata": {},
   "outputs": [],
   "source": [
    "#retrade with cutoffs\n",
    "def highest_returns3(input_dict,input_returns,percentile, num_std_dev, mean, sigma):\n",
    "    \n",
    "    portfolio = 100\n",
    "    portfolio_tracker = []\n",
    "    \n",
    "    for date in input_dict['A'].keys():\n",
    "        date_index = b.index(date)\n",
    "     \n",
    "        if date_index < 1900:\n",
    "            \n",
    "            daily_returns_dict = {}            \n",
    "            long_trading_list = []\n",
    "            short_trading_list = []\n",
    "            try:                \n",
    "                for ticker in input_dict.keys():\n",
    "                    daily_pct_return = input_dict[ticker][date]\n",
    "                    daily_returns_dict[ticker] = daily_pct_return\n",
    "            except:\n",
    "                pass\n",
    "       \n",
    "            float_list = []\n",
    "        \n",
    "            for i in daily_returns_dict.keys():\n",
    "                float_list.append(float(daily_returns_dict[i]))\n",
    "            \n",
    "            for i in daily_returns_dict.keys():\n",
    "                if float(daily_returns_dict[i]) >np.percentile(float_list, percentile) : \n",
    "                    #print(i)\n",
    "                    if float(daily_returns_dict[i]) > (mean+ num_std_dev*sigma):\n",
    "                        #print(long_trading_list)\n",
    "                        long_trading_list.append(i)\n",
    "            #if float(daily_returns_dict[i]) <np.percentile(float_list, 5):\n",
    "                #short_trading_list.append(i)\n",
    "                \n",
    "            trades = len(long_trading_list) + len(short_trading_list)\n",
    "            #print(long_trading_list)\n",
    "            #print(short_trading_list)\n",
    "            try:\n",
    "                trade_cap = portfolio/trades\n",
    "            except:\n",
    "                continue\n",
    "            #print(trade_cap)\n",
    "            total = 0            \n",
    "            try:\n",
    "                date_index = b.index(date)\n",
    "                new_date = b[date_index+1]\n",
    "        \n",
    "                for i in long_trading_list:\n",
    "                    total += trade_cap *(1+float(input_returns[i][new_date])/100)\n",
    "                for i in short_trading_list:\n",
    "                    total += trade_cap *(1-float(input_returns[i][new_date])/100)\n",
    "                \n",
    "            except:\n",
    "                pass\n",
    "            portfolio_tracker.append(total)            \n",
    "            portfolio = total\n",
    "            #break\n",
    "            #print(date)             \n",
    "            #print(portfolio_tracker)\n",
    "    return portfolio_tracker[:-1]\n",
    "\n",
    "mean = 0.2595445178916006\n",
    "sigma = 0.23534617082298673\n",
    "cutoff_test_list = []\n",
    "portfolio_80_30_0 = highest_returns3(testc_30, testa_30, 80, 0, mean, sigma)\n",
    "\n",
    "portfolio_85_30_0 = highest_returns3(testc_30, testa_30, 85, 0, mean, sigma)\n",
    "portfolio_90_30_0 = highest_returns3(testc_30, testa_30, 90, 0, mean, sigma)\n",
    "portfolio_95_30_0 = highest_returns3(testc_30, testa_30, 95, 0, mean, sigma)\n",
    "portfolio_75_30_0 = highest_returns3(testc_30, testa_30, 75, 0, mean, sigma)\n",
    "\n",
    "portfolio_80_30_1 = highest_returns3(testc_30, testa_30, 80, 1, mean, sigma)\n",
    "portfolio_85_30_1 = highest_returns3(testc_30, testa_30, 85, 1, mean, sigma)\n",
    "portfolio_90_30_1 = highest_returns3(testc_30, testa_30, 90, 1, mean, sigma)\n",
    "portfolio_95_30_1 = highest_returns3(testc_30, testa_30, 95, 1, mean, sigma)\n",
    "portfolio_75_30_1 = highest_returns3(testc_30, testa_30, 75, 1, mean, sigma)\n",
    "\n",
    "portfolio_80_30_2 = highest_returns3(testc_30, testa_30, 80, 2, mean, sigma)\n",
    "portfolio_85_30_2 = highest_returns3(testc_30, testa_30, 85, 2, mean, sigma)\n",
    "portfolio_90_30_2 = highest_returns3(testc_30, testa_30, 90, 2, mean, sigma)\n",
    "portfolio_95_30_2 = highest_returns3(testc_30, testa_30, 95, 2, mean, sigma)\n",
    "portfolio_75_30_2 = highest_returns3(testc_30, testa_30, 75, 2, mean, sigma)\n",
    "\n",
    "cutoff_test_list.extend((portfolio_80_30_0,portfolio_85_30_0,portfolio_90_30_0,portfolio_95_30_0,portfolio_75_30_0))\n",
    "cutoff_test_list.extend((portfolio_80_30_1,portfolio_85_30_1,portfolio_90_30_1,portfolio_95_30_1,portfolio_75_30_1))\n",
    "cutoff_test_list.extend((portfolio_80_30_2,portfolio_85_30_2,portfolio_90_30_2,portfolio_95_30_2,portfolio_75_30_2))\n",
    "\n"
   ]
  },
  {
   "cell_type": "code",
   "execution_count": 121,
   "metadata": {},
   "outputs": [
    {
     "name": "stdout",
     "output_type": "stream",
     "text": [
      "566.4500753191876\n",
      "0.9911931416405114\n",
      "1.2305257332097508\n",
      "566.4500753191876\n",
      "0.9911931416405114\n",
      "1.2305257332097508\n",
      "790.4587838088831\n",
      "0.9162513124868614\n",
      "1.1465012903885232\n",
      "790.4587838088831\n",
      "0.9162513124868614\n",
      "1.1465012903885232\n",
      "565.7241458985422\n",
      "1.0799873258807329\n",
      "1.3565799491008301\n",
      "375.9460112309893\n",
      "0.9755124259303012\n",
      "1.1934907182875016\n",
      "375.9460112309893\n",
      "0.9755124259303012\n",
      "1.1934907182875016\n",
      "458.4009899756204\n",
      "1.0117569096838739\n",
      "1.3046336953111854\n",
      "458.4009899756204\n",
      "1.0117569096838739\n",
      "1.3046336953111854\n",
      "412.47753873941554\n",
      "1.0721929618784012\n",
      "1.321114551479008\n",
      "232.35146569404708\n",
      "1.1111297609851962\n",
      "1.874478670668728\n",
      "232.35146569404708\n",
      "1.1111297609851962\n",
      "1.874478670668728\n",
      "258.51606223684917\n",
      "1.218785741103905\n",
      "2.115659738770094\n",
      "258.51606223684917\n",
      "1.218785741103905\n",
      "2.115659738770094\n",
      "232.29902074826933\n",
      "1.1122913293214196\n",
      "1.8722213830038235\n"
     ]
    }
   ],
   "source": [
    "for i in cutoff_test_list:\n",
    "    print(i[-1])\n",
    "    print(sharpe(i))\n",
    "    print(sortino(i))"
   ]
  },
  {
   "cell_type": "code",
   "execution_count": 125,
   "metadata": {},
   "outputs": [],
   "source": [
    "# final returns function corrected for percentile, trade cutoffs\n",
    "def highest_returns4(input_dict,input_returns,percentile, num_std_dev, mean, sigma):\n",
    "    \n",
    "    portfolio = 100\n",
    "    portfolio_tracker = []\n",
    "    \n",
    "    for date in input_dict['A'].keys():\n",
    "        date_index = b.index(date)\n",
    "     \n",
    "        if date_index > 1900:\n",
    "            \n",
    "            daily_returns_dict = {}\n",
    "            long_trading_list = []\n",
    "            short_trading_list = []\n",
    "            try:\n",
    "                for ticker in input_dict.keys():\n",
    "                    daily_pct_return = input_dict[ticker][date]\n",
    "                    daily_returns_dict[ticker] = daily_pct_return\n",
    "            except:\n",
    "                pass\n",
    "        \n",
    "            float_list = []\n",
    "        \n",
    "            for i in daily_returns_dict.keys():\n",
    "                float_list.append(float(daily_returns_dict[i]))\n",
    "            \n",
    "            for i in daily_returns_dict.keys():\n",
    "                \n",
    "                #check percentile\n",
    "                if float(daily_returns_dict[i]) >np.percentile(float_list, percentile):\n",
    "                    #check cutoff\n",
    "                    if float(daily_returns_dict[i]) > (mean+ num_std_dev*sigma):                        \n",
    "                        long_trading_list.append(i)\n",
    "                    \n",
    "            \n",
    "                \n",
    "            trades = len(long_trading_list) + len(short_trading_list) #not shorting anymore\n",
    "            \n",
    "            try:\n",
    "                trade_cap = portfolio/trades\n",
    "            except:\n",
    "                continue #if 0 trades\n",
    "            \n",
    "            total = 0\n",
    "            try:\n",
    "                date_index = b.index(date)\n",
    "                new_date = b[date_index+1]\n",
    "        \n",
    "                for i in long_trading_list:\n",
    "                    total += trade_cap *(1+float(input_returns[i][new_date])/100)\n",
    "                for i in short_trading_list:\n",
    "                    total += trade_cap *(1-float(input_returns[i][new_date])/100)\n",
    "                \n",
    "            except:\n",
    "                pass\n",
    "            portfolio_tracker.append(total)\n",
    "            portfolio = total\n",
    "            \n",
    "    #last value is 0        \n",
    "    return portfolio_tracker[:-1]"
   ]
  },
  {
   "cell_type": "code",
   "execution_count": 129,
   "metadata": {},
   "outputs": [
    {
     "name": "stdout",
     "output_type": "stream",
     "text": [
      "117.69504947529617\n"
     ]
    }
   ],
   "source": [
    "#backtest on small stocks\n",
    "def backtest(window_size, percentile, num_std, mean, sigma):\n",
    "    back_a, back_b, back_c = ewma_returns1([],window_size)\n",
    "    results = highest_returns4(back_c, back_a, percentile, num_std, mean, sigma)\n",
    "    return results\n",
    "\n",
    "mean = 0.2595445178916006\n",
    "sigma = 0.23534617082298673\n",
    "results = backtest(30,90,2, mean, sigma)\n",
    "print(results[-1])\n"
   ]
  },
  {
   "cell_type": "code",
   "execution_count": 130,
   "metadata": {},
   "outputs": [
    {
     "name": "stdout",
     "output_type": "stream",
     "text": [
      "2.0163484453911913\n",
      "2.9304017127320052\n"
     ]
    }
   ],
   "source": [
    "print(sharpe(results))\n",
    "print(sortino(results))"
   ]
  },
  {
   "cell_type": "code",
   "execution_count": 131,
   "metadata": {},
   "outputs": [
    {
     "data": {
      "text/plain": [
       "Text(0, 0.5, 'Profits')"
      ]
     },
     "execution_count": 131,
     "metadata": {},
     "output_type": "execute_result"
    },
    {
     "data": {
      "image/png": "[encoded data removed]",
      "text/plain": [
       "<Figure size 432x288 with 1 Axes>"
      ]
     },
     "metadata": {
      "needs_background": "light"
     },
     "output_type": "display_data"
    }
   ],
   "source": [
    "length = len(results)\n",
    "timesteps = [j for j in range(length)]\n",
    "plt.plot(timesteps, results)\n",
    "plt.xlabel('EWMA Backtest')\n",
    "plt.ylabel('Profits')"
   ]
  },
  {
   "cell_type": "code",
   "execution_count": null,
   "metadata": {},
   "outputs": [],
   "source": [
    "#test on random subsets of S&P\n",
    "#do a backtest on moving average \n",
    "#get industry leaders from emily"
   ]
  }
 ],
 "metadata": {
  "kernelspec": {
   "display_name": "Python 3",
   "language": "python",
   "name": "python3"
  },
  "language_info": {
   "codemirror_mode": {
    "name": "ipython",
    "version": 3
   },
   "file_extension": ".py",
   "mimetype": "text/x-python",
   "name": "python",
   "nbconvert_exporter": "python",
   "pygments_lexer": "ipython3",
   "version": "3.6.7"
  }
 },
 "nbformat": 4,
 "nbformat_minor": 2
}
