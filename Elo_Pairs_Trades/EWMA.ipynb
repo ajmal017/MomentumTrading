{
 "cells": [
  {
   "cell_type": "code",
   "execution_count": 18,
   "metadata": {},
   "outputs": [],
   "source": [
    "import math\n",
    "import json\n",
    "import csv\n",
    "import pandas as pd\n",
    "import numpy as np\n",
    "import matplotlib.mlab as mlab\n",
    "import matplotlib.pyplot as plt\n",
    "import os\n",
    "import glob\n",
    "import datetime\n",
    "import copy"
   ]
  },
  {
   "cell_type": "code",
   "execution_count": 105,
   "metadata": {},
   "outputs": [],
   "source": [
    "#could have other hyperparameters in main\n",
    "def ewma_returns(stocks):\n",
    "    dates = set()\n",
    "    filenames = []\n",
    "    for filename in os.listdir(\"./SP500Stocks\"):\n",
    "        if len(stocks) == 0:\n",
    "            if \"csv\" in filename:\n",
    "                filenames.append(filename)\n",
    "        else:\n",
    "            if \"csv\" in filename and filename[:-4] in stocks:\n",
    "                filenames.append(filename)\n",
    "    #format for consolidate info is {name: {dates: {date, open}, }}\n",
    "    Histories = {}\n",
    "    Exp_weighted = {}\n",
    "    for file in filenames:\n",
    "\n",
    "        with open(\"SP500Stocks/\"+file, 'r') as f: \n",
    "            reader = csv.reader(f)\n",
    "            next(reader)  # gets the first line\n",
    "            previousClose = next(reader)[4]\n",
    "            #print(file)\n",
    "            #print(previousClose)\n",
    "            #return\n",
    "            history = {}\n",
    "\n",
    "            for row in reader:\n",
    "\n",
    "                dates.add(row[0])\n",
    "     \n",
    "                try:\n",
    "                    history[row[0]] = (float(row[4])-float(previousClose))/float(previousClose)*100\n",
    "                except:\n",
    "                    pass\n",
    "                previousClose = row[4]\n",
    "                \n",
    "                \n",
    "                #exp_avg=df.ewm(span=30,adjust=False, ignore_na=True).mean()\n",
    "                #history[row[1]] = exp_avg\n",
    "            #df = pd.DataFrame.from_dict(history)\n",
    "            \n",
    "            #test = range(len(history.keys()))\n",
    "            df = pd.DataFrame(data = history, index = ['returns']).transpose()\n",
    "            #print(df)\n",
    "            exp_avg=df.ewm(span = 30, min_periods=30, ignore_na=True).mean()\n",
    "            \n",
    "            exp_avg = df['returns'].values\n",
    "            a = list(df.index)\n",
    "            exp_avg_dict = {}\n",
    "            exp_avg_dict = dict(zip(a,exp_avg))\n",
    "            \n",
    "            Exp_weighted[file[:-4]] = exp_avg_dict\n",
    "            \n",
    "            Histories[file[:-4]] = history\n",
    "            \n",
    "            #break  \n",
    "            \n",
    "    sortedDates = [date for date in dates]\n",
    "    sortedDates = sorted(sortedDates, key=lambda x: datetime.datetime.strptime(x, '%Y-%m-%d'))\n",
    "    return Histories, sortedDates, Exp_weighted\n"
   ]
  },
  {
   "cell_type": "code",
   "execution_count": null,
   "metadata": {},
   "outputs": [],
   "source": [
    "a, b, c = ewma_returns([])\n",
    "print(c)"
   ]
  },
  {
   "cell_type": "code",
   "execution_count": null,
   "metadata": {},
   "outputs": [],
   "source": []
  }
 ],
 "metadata": {
  "kernelspec": {
   "display_name": "Python 3",
   "language": "python",
   "name": "python3"
  },
  "language_info": {
   "codemirror_mode": {
    "name": "ipython",
    "version": 3
   },
   "file_extension": ".py",
   "mimetype": "text/x-python",
   "name": "python",
   "nbconvert_exporter": "python",
   "pygments_lexer": "ipython3",
   "version": "3.6.7"
  }
 },
 "nbformat": 4,
 "nbformat_minor": 2
}
