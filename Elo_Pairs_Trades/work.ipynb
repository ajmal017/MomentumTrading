{
 "cells": [
  {
   "cell_type": "code",
   "execution_count": 4,
   "metadata": {},
   "outputs": [],
   "source": [
    "import math\n",
    "import json\n",
    "import csv\n",
    "import pandas as pd\n",
    "import numpy as np\n",
    "import matplotlib.mlab as mlab\n",
    "import matplotlib.pyplot as plt\n",
    "import os\n",
    "import glob\n",
    "import datetime\n",
    "import copy\n",
    "from random import shuffle\n",
    "import random"
   ]
  },
  {
   "cell_type": "code",
   "execution_count": 274,
   "metadata": {},
   "outputs": [],
   "source": [
    "#could have other hyperparameters in main\n",
    "def setup(stocks, numBins):\n",
    "    dates = set()\n",
    "    filenames = []\n",
    "    for filename in os.listdir(\"./Stocks\"):\n",
    "        if len(stocks) == 0:\n",
    "            if \"csv\" in filename:\n",
    "                filenames.append(filename)\n",
    "        else:\n",
    "            if \"csv\" in filename and filename[:-4] in stocks:\n",
    "                filenames.append(filename)\n",
    "    #format for consolidate info is {name: {dates: {date, open}, }}\n",
    "    Histories = {}\n",
    "    Elos = {}\n",
    "    for file in filenames:\n",
    "        with open(\"Stocks/\"+file, 'r') as f:\n",
    "            reader = csv.reader(f)\n",
    "            next(reader)  # gets the first line\n",
    "            previousClose = next(reader)[4]\n",
    "            #print(file)\n",
    "            #print(previousClose)\n",
    "            #return\n",
    "            history = {}\n",
    "            for row in reader:\n",
    "                dates.add(row[0])\n",
    "                history[row[0]] = (float(row[4])-float(previousClose))/float(previousClose)*100\n",
    "                previousClose = row[4]\n",
    "                #print(row)\n",
    "            Histories[file[:-4]] = history\n",
    "            Elos[file[:-4]] = {\"NumWins\":[0]*(numBins+3),\"NumLoss\":[0]*(numBins+3), \"Elos\":[1200]*(numBins+3)}\n",
    "    sortedDates = [date for date in dates]\n",
    "    sortedDates = sorted(sortedDates, key=lambda x: datetime.datetime.strptime(x, '%Y-%m-%d'))\n",
    "    return Histories,Elos, sortedDates\n"
   ]
  },
  {
   "cell_type": "code",
   "execution_count": 275,
   "metadata": {},
   "outputs": [
    {
     "name": "stdout",
     "output_type": "stream",
     "text": [
      "{'NKE': {'NumWins': [0, 0, 0, 0, 0, 0, 0, 0, 0, 0, 0, 0, 0], 'NumLoss': [0, 0, 0, 0, 0, 0, 0, 0, 0, 0, 0, 0, 0], 'Elos': [1200, 1200, 1200, 1200, 1200, 1200, 1200, 1200, 1200, 1200, 1200, 1200, 1200]}, 'GE': {'NumWins': [0, 0, 0, 0, 0, 0, 0, 0, 0, 0, 0, 0, 0], 'NumLoss': [0, 0, 0, 0, 0, 0, 0, 0, 0, 0, 0, 0, 0], 'Elos': [1200, 1200, 1200, 1200, 1200, 1200, 1200, 1200, 1200, 1200, 1200, 1200, 1200]}, 'GOOG': {'NumWins': [0, 0, 0, 0, 0, 0, 0, 0, 0, 0, 0, 0, 0], 'NumLoss': [0, 0, 0, 0, 0, 0, 0, 0, 0, 0, 0, 0, 0], 'Elos': [1200, 1200, 1200, 1200, 1200, 1200, 1200, 1200, 1200, 1200, 1200, 1200, 1200]}, 'HMC': {'NumWins': [0, 0, 0, 0, 0, 0, 0, 0, 0, 0, 0, 0, 0], 'NumLoss': [0, 0, 0, 0, 0, 0, 0, 0, 0, 0, 0, 0, 0], 'Elos': [1200, 1200, 1200, 1200, 1200, 1200, 1200, 1200, 1200, 1200, 1200, 1200, 1200]}, 'AAPL': {'NumWins': [0, 0, 0, 0, 0, 0, 0, 0, 0, 0, 0, 0, 0], 'NumLoss': [0, 0, 0, 0, 0, 0, 0, 0, 0, 0, 0, 0, 0], 'Elos': [1200, 1200, 1200, 1200, 1200, 1200, 1200, 1200, 1200, 1200, 1200, 1200, 1200]}, 'M': {'NumWins': [0, 0, 0, 0, 0, 0, 0, 0, 0, 0, 0, 0, 0], 'NumLoss': [0, 0, 0, 0, 0, 0, 0, 0, 0, 0, 0, 0, 0], 'Elos': [1200, 1200, 1200, 1200, 1200, 1200, 1200, 1200, 1200, 1200, 1200, 1200, 1200]}}\n"
     ]
    }
   ],
   "source": [
    "a, b, c = setup([],10)\n",
    "print(b)"
   ]
  },
  {
   "cell_type": "code",
   "execution_count": 2,
   "metadata": {},
   "outputs": [],
   "source": [
    "def getBin(percent, numBins):\n",
    "    binWidth = 6/(numBins-3)\n",
    "    for i in range(numBins-1):\n",
    "        if percent < -3-binWidth/2+i*binWidth:\n",
    "            return i\n",
    "    return numBins-1"
   ]
  },
  {
   "cell_type": "code",
   "execution_count": 11,
   "metadata": {},
   "outputs": [],
   "source": [
    "#one bin means no seperation\n",
    "#two bins means seperation based on up/down\n",
    "#n bins partitions [-3,3] into n-2 different equal sections with a bin for [-inf,-3] and [3,inf]\n",
    "def get2DBin(percents, numBins):\n",
    "    #hardCode 1 bin and 2 bins\n",
    "    if numBins == 1:\n",
    "        return (0,0)\n",
    "    elif numBins == 2:\n",
    "        return (int(percents[0] >0), int(percents[1]> 0))\n",
    "    else:\n",
    "        daily = 0\n",
    "        weekly = 0\n",
    "        binWidth = 6/(numBins-2)\n",
    "        binHeight = 12/(numBins-2)\n",
    "        for i in range(numBins-1):\n",
    "            if percents[0] > -3+binWidth*i:\n",
    "                daily = i+1\n",
    "            if percents[1] > -6+binHeight*i:\n",
    "                weekly = i+1\n",
    "    return daily, weekly"
   ]
  },
  {
   "cell_type": "code",
   "execution_count": 14,
   "metadata": {},
   "outputs": [
    {
     "name": "stdout",
     "output_type": "stream",
     "text": [
      "(0, 0)\n",
      "(0, 0)\n",
      "(1, 0)\n",
      "(1, 1)\n",
      "(2, 2)\n",
      "(5, 5)\n"
     ]
    }
   ],
   "source": [
    "print(get2DBin((0,0),1))\n",
    "print(get2DBin((0,0),2))\n",
    "print(get2DBin((5,0),2))\n",
    "print(get2DBin((.5,.5),3))\n",
    "print(get2DBin((.5,.5),4))\n",
    "print(get2DBin((1.1,2.1),8))"
   ]
  },
  {
   "cell_type": "code",
   "execution_count": 277,
   "metadata": {},
   "outputs": [],
   "source": [
    "def variance(matchesLost, matchesWon):\n",
    "    return max(1000/((10+matchesLost)*(10+matchesWon)), 1)\n",
    "def upDateElo(currentElo, opsElo,matchWon, matchesWon, matchesLost):\n",
    "    newElo = 0\n",
    "    deltaElo = currentElo-opsElo\n",
    "    if matchWon:\n",
    "        differenceMultiplier = (-deltaElo+150)/150 if deltaElo < 0 else 1/((deltaElo+150)/150)\n",
    "        newElo = currentElo + 8*variance(matchesLost, matchesWon)*differenceMultiplier\n",
    "        newElo = min(currentElo+150,newElo)\n",
    "    else:\n",
    "        differenceMultiplier = (differenceInTeamElos+150)/150 if differenceInTeamElos > 0 else 1/((-differenceInTeamElos+150)/150)\n",
    "        newElo = currentElo - 8*variance(matchesLost, matchesWon)*differenceMultiplier\n",
    "        newElo = max(currentElo-150,newElo)\n",
    "    #print(newElo)\n",
    "    return newElo"
   ]
  },
  {
   "cell_type": "code",
   "execution_count": 328,
   "metadata": {},
   "outputs": [
    {
     "name": "stdout",
     "output_type": "stream",
     "text": [
      "{'NKE': {'NumWins': [0, 0, 0, 0, 0, 0, 0, 0, 0, 0, 0, 0, 0], 'NumLoss': [0, 0, 0, 0, 0, 0, 0, 0, 0, 0, 0, 0, 0], 'Elos': [1200, 1200, 1200, 1200, 1200, 1200, 1200, 1200, 1200, 1200, 1200, 1200, 1200]}, 'GE': {'NumWins': [0, 0, 0, 0, 0, 0, 0, 0, 0, 0, 0, 0, 0], 'NumLoss': [0, 0, 0, 0, 0, 0, 0, 0, 0, 0, 0, 0, 0], 'Elos': [1200, 1200, 1200, 1200, 1200, 1200, 1200, 1200, 1200, 1200, 1200, 1200, 1200]}, 'GOOG': {'NumWins': [0, 0, 0, 0, 0, 0, 0, 0, 0, 0, 0, 0, 0], 'NumLoss': [0, 0, 0, 0, 0, 0, 0, 0, 0, 0, 0, 0, 0], 'Elos': [1200, 1200, 1200, 1200, 1200, 1200, 1200, 1200, 1200, 1200, 1200, 1200, 1200]}, 'HMC': {'NumWins': [0, 0, 0, 0, 0, 0, 0, 0, 0, 0, 0, 0, 0], 'NumLoss': [0, 0, 0, 0, 0, 0, 0, 0, 0, 0, 0, 0, 0], 'Elos': [1200, 1200, 1200, 1200, 1200, 1200, 1200, 1200, 1200, 1200, 1200, 1200, 1200]}, 'AAPL': {'NumWins': [0, 0, 0, 0, 0, 0, 0, 0, 0, 0, 0, 0, 0], 'NumLoss': [0, 0, 0, 0, 0, 0, 0, 0, 0, 0, 0, 0, 0], 'Elos': [1200, 1200, 1200, 1200, 1200, 1200, 1200, 1200, 1200, 1200, 1200, 1200, 1200]}, 'M': {'NumWins': [0, 0, 0, 0, 0, 0, 0, 0, 0, 0, 0, 0, 0], 'NumLoss': [0, 0, 0, 0, 0, 0, 0, 0, 0, 0, 0, 0, 0], 'Elos': [1200, 1200, 1200, 1200, 1200, 1200, 1200, 1200, 1200, 1200, 1200, 1200, 1200]}}\n"
     ]
    }
   ],
   "source": [
    "histories, elos, dates = setup([], 10)\n",
    "print(elos)"
   ]
  },
  {
   "cell_type": "code",
   "execution_count": 278,
   "metadata": {},
   "outputs": [
    {
     "ename": "ValueError",
     "evalue": "too many values to unpack (expected 2)",
     "output_type": "error",
     "traceback": [
      "\u001b[0;31m---------------------------------------------------------------------------\u001b[0m",
      "\u001b[0;31mValueError\u001b[0m                                Traceback (most recent call last)",
      "\u001b[0;32m<ipython-input-278-aa8afb046fd7>\u001b[0m in \u001b[0;36m<module>\u001b[0;34m\u001b[0m\n\u001b[0;32m----> 1\u001b[0;31m \u001b[0minfo\u001b[0m\u001b[0;34m,\u001b[0m \u001b[0mdates\u001b[0m \u001b[0;34m=\u001b[0m \u001b[0msetup\u001b[0m\u001b[0;34m(\u001b[0m\u001b[0;34m[\u001b[0m\u001b[0;34m]\u001b[0m\u001b[0;34m,\u001b[0m \u001b[0;36m10\u001b[0m\u001b[0;34m)\u001b[0m\u001b[0;34m\u001b[0m\u001b[0;34m\u001b[0m\u001b[0m\n\u001b[0m\u001b[1;32m      2\u001b[0m \u001b[0mcompanies\u001b[0m \u001b[0;34m=\u001b[0m \u001b[0mlist\u001b[0m\u001b[0;34m(\u001b[0m\u001b[0minfo\u001b[0m\u001b[0;34m.\u001b[0m\u001b[0mkeys\u001b[0m\u001b[0;34m(\u001b[0m\u001b[0;34m)\u001b[0m\u001b[0;34m)\u001b[0m\u001b[0;34m\u001b[0m\u001b[0;34m\u001b[0m\u001b[0m\n\u001b[1;32m      3\u001b[0m \u001b[0;31m#print(companies)\u001b[0m\u001b[0;34m\u001b[0m\u001b[0;34m\u001b[0m\u001b[0;34m\u001b[0m\u001b[0m\n\u001b[1;32m      4\u001b[0m \u001b[0;31m#print(info)\u001b[0m\u001b[0;34m\u001b[0m\u001b[0;34m\u001b[0m\u001b[0;34m\u001b[0m\u001b[0m\n\u001b[1;32m      5\u001b[0m \u001b[0mtrainingNumber\u001b[0m \u001b[0;34m=\u001b[0m \u001b[0mint\u001b[0m\u001b[0;34m(\u001b[0m\u001b[0mlen\u001b[0m\u001b[0;34m(\u001b[0m\u001b[0mdates\u001b[0m\u001b[0;34m)\u001b[0m\u001b[0;34m*\u001b[0m\u001b[0;36m4\u001b[0m\u001b[0;34m/\u001b[0m\u001b[0;36m5\u001b[0m\u001b[0;34m)\u001b[0m\u001b[0;34m\u001b[0m\u001b[0;34m\u001b[0m\u001b[0m\n",
      "\u001b[0;31mValueError\u001b[0m: too many values to unpack (expected 2)"
     ]
    }
   ],
   "source": [
    "#maybe other hyperparameters\n",
    "#histories, elos, dates = setup([], 10)\n",
    "def train(histories,elos,dates):\n",
    "    companies = list(histories.keys())\n",
    "    #print(companies)\n",
    "    #print(info)\n",
    "    trainingNumber = int(len(dates)*4/5)\n",
    "    previousDate = dates[0]\n",
    "    for i in range(1, trainingNumber):\n",
    "        shuffle(companies)\n",
    "        currentDate = dates[i]\n",
    "        for j in range(len(companies)):\n",
    "            bins = len(elos[companies[j]][\"Elos\"])\n",
    "            if previousDate not in histories[companies[j]]:\n",
    "                continue\n",
    "            val1 = float(histories[companies[j]][previousDate])\n",
    "            Bin1 = getBin(val1,bins)\n",
    "            for k in range(j+1, len(companies)):\n",
    "                if previousDate not in info[companies[k]][\"History\"]:\n",
    "                    continue\n",
    "                val2 = float(histories[companies[k]][previousDate])\n",
    "                Bin2 = getBin(val2,bins)\n",
    "                #if previous dates had change in the same bin\n",
    "                if Bin1 == Bin2:\n",
    "                    #check how the next day works\n",
    "                    val1 = float(histories[companies[j]][currentDate])\n",
    "                    val2 = float(histories[companies[k]][currentDate])\n",
    "                    #if j beats k update elos and matches won/lost\n",
    "                    if val1 > val2:\n",
    "                        info[companies[j]][\"Elos\"][Bin1] = upDateElo(info[companies[j]][\"Elos\"][Bin1],\n",
    "                                                                    info[companies[k]][\"Elos\"][Bin1],\n",
    "                                                                    True, info[companies[j]][\"NumWins\"][Bin1],\n",
    "                                                                    info[companies[j]][\"NumLoss\"][Bin1])\n",
    "                        info[companies[j]][\"NumWins\"][Bin1] +=1\n",
    "                        info[companies[k]][\"Elos\"][Bin1] = upDateElo(info[companies[k]][\"Elos\"][Bin1],\n",
    "                                                                    info[companies[j]][\"Elos\"][Bin1],\n",
    "                                                                    False, info[companies[k]][\"NumWins\"][Bin1],\n",
    "                                                                    info[companies[k]][\"NumLoss\"][Bin1])\n",
    "                        info[companies[k]][\"NumLoss\"][Bin1] +=1\n",
    "                    #if k beats j\n",
    "                    else:\n",
    "                        info[companies[j]][\"Elos\"][Bin1] = upDateElo(info[companies[j]][\"Elos\"][Bin1],\n",
    "                                                                    info[companies[k]][\"Elos\"][Bin1],\n",
    "                                                                    False, info[companies[j]][\"NumWins\"][Bin1],\n",
    "                                                                    info[companies[j]][\"NumLoss\"][Bin1])\n",
    "                        info[companies[j]][\"NumLoss\"][Bin1] +=1\n",
    "                        info[companies[k]][\"Elos\"][Bin1] = upDateElo(info[companies[k]][\"Elos\"][Bin1],\n",
    "                                                                    info[companies[j]][\"Elos\"][Bin1],\n",
    "                                                                    True, info[companies[k]][\"NumWins\"][Bin1],\n",
    "                                                                    info[companies[k]][\"NumLoss\"][Bin1])\n",
    "                        info[companies[k]][\"NumWins\"][Bin1] +=1\n",
    "        previousDate = currentDate\n",
    "for key in info:\n",
    "    print (key)\n",
    "    print(info[key][\"Elos\"])\n",
    "    print(info[key][\"NumWins\"])\n",
    "    print(info[key][\"NumLoss\"])"
   ]
  },
  {
   "cell_type": "code",
   "execution_count": 249,
   "metadata": {},
   "outputs": [],
   "source": [
    "#now lets test this data"
   ]
  },
  {
   "cell_type": "code",
   "execution_count": 279,
   "metadata": {},
   "outputs": [
    {
     "name": "stdout",
     "output_type": "stream",
     "text": [
      "[0, 0.015019728889384965, 1.8326471772282564, 2.5191304199721896, 4.881766106531414, 3.5462178617400326, 4.209899358340603, 8.377123977951275, 8.378203712663947, 8.444612077642239, 6.401632037440189, 6.743877573919644]\n"
     ]
    }
   ],
   "source": [
    "profits = [0]\n",
    "currentProfit = 0\n",
    "currentInfo = copy.deepcopy(info)\n",
    "for i in range(trainingNumber, len(dates)):\n",
    "    shuffle(companies)\n",
    "    currentDate = dates[i]\n",
    "    for j in range(len(companies)):\n",
    "        if previousDate not in currentInfo[companies[j]][\"History\"]:\n",
    "            continue\n",
    "        val1 = float(currentInfo[companies[j]][\"History\"][previousDate])\n",
    "        Bin1 = getBin(val1,len(currentInfo[companies[j]][\"Elos\"]))\n",
    "        for k in range(j+1, len(companies)):\n",
    "            if previousDate not in currentInfo[companies[k]][\"History\"]:\n",
    "                continue\n",
    "            val2 = float(currentInfo[companies[k]][\"History\"][previousDate])\n",
    "            Bin2 = getBin(val2,len(currentInfo[companies[k]][\"Elos\"]))\n",
    "            if Bin1 == Bin2:\n",
    "                val1 = float(currentInfo[companies[j]][\"History\"][currentDate])\n",
    "                val2 = float(currentInfo[companies[k]][\"History\"][currentDate])\n",
    "                #if j beats k update elos and matches won/lost\n",
    "                #time to bet on j\n",
    "                if currentInfo[companies[j]][\"Elos\"][Bin1] - currentInfo[companies[k]][\"Elos\"][Bin1] > 50:\n",
    "                    if val1 > val2:\n",
    "                        info[companies[j]][\"Elos\"][Bin1] = upDateElo(info[companies[j]][\"Elos\"][Bin1],\n",
    "                                                                    info[companies[k]][\"Elos\"][Bin1],\n",
    "                                                                    True, info[companies[j]][\"NumWins\"][Bin1],\n",
    "                                                                    info[companies[j]][\"NumLoss\"][Bin1])\n",
    "                        info[companies[j]][\"NumWins\"][Bin1] +=1\n",
    "                        info[companies[k]][\"Elos\"][Bin1] = upDateElo(info[companies[k]][\"Elos\"][Bin1],\n",
    "                                                                    info[companies[j]][\"Elos\"][Bin1],\n",
    "                                                                    False, info[companies[k]][\"NumWins\"][Bin1],\n",
    "                                                                    info[companies[k]][\"NumLoss\"][Bin1])\n",
    "                        info[companies[k]][\"NumLoss\"][Bin1] +=1\n",
    "                        currentProfit += val1-val2\n",
    "                        profits.append(currentProfit)\n",
    "                    #if k beats j\n",
    "                    else:\n",
    "                        info[companies[j]][\"Elos\"][Bin1] = upDateElo(info[companies[j]][\"Elos\"][Bin1],\n",
    "                                                                    info[companies[k]][\"Elos\"][Bin1],\n",
    "                                                                    False, info[companies[j]][\"NumWins\"][Bin1],\n",
    "                                                                    info[companies[j]][\"NumLoss\"][Bin1])\n",
    "                        info[companies[j]][\"NumLoss\"][Bin1] +=1\n",
    "                        info[companies[k]][\"Elos\"][Bin1] = upDateElo(info[companies[k]][\"Elos\"][Bin1],\n",
    "                                                                    info[companies[j]][\"Elos\"][Bin1],\n",
    "                                                                    True, info[companies[k]][\"NumWins\"][Bin1],\n",
    "                                                                    info[companies[k]][\"NumLoss\"][Bin1])\n",
    "                        info[companies[k]][\"NumWins\"][Bin1] +=1\n",
    "                        currentProfit += val1-val2\n",
    "                        profits.append(currentProfit)\n",
    "                #time to bet on k\n",
    "                if currentInfo[companies[j]][\"Elos\"][Bin1] - currentInfo[companies[k]][\"Elos\"][Bin1] < -50:\n",
    "                    if val1 > val2:\n",
    "                        info[companies[j]][\"Elos\"][Bin1] = upDateElo(info[companies[j]][\"Elos\"][Bin1],\n",
    "                                                                    info[companies[k]][\"Elos\"][Bin1],\n",
    "                                                                    True, info[companies[j]][\"NumWins\"][Bin1],\n",
    "                                                                    info[companies[j]][\"NumLoss\"][Bin1])\n",
    "                        info[companies[j]][\"NumWins\"][Bin1] +=1\n",
    "                        info[companies[k]][\"Elos\"][Bin1] = upDateElo(info[companies[k]][\"Elos\"][Bin1],\n",
    "                                                                    info[companies[j]][\"Elos\"][Bin1],\n",
    "                                                                    False, info[companies[k]][\"NumWins\"][Bin1],\n",
    "                                                                    info[companies[k]][\"NumLoss\"][Bin1])\n",
    "                        info[companies[k]][\"NumLoss\"][Bin1] +=1\n",
    "                        currentProfit += val2-val1\n",
    "                        profits.append(currentProfit)\n",
    "                    #if k beats j\n",
    "                    else:\n",
    "                        info[companies[j]][\"Elos\"][Bin1] = upDateElo(info[companies[j]][\"Elos\"][Bin1],\n",
    "                                                                    info[companies[k]][\"Elos\"][Bin1],\n",
    "                                                                    False, info[companies[j]][\"NumWins\"][Bin1],\n",
    "                                                                    info[companies[j]][\"NumLoss\"][Bin1])\n",
    "                        info[companies[j]][\"NumLoss\"][Bin1] +=1\n",
    "                        info[companies[k]][\"Elos\"][Bin1] = upDateElo(info[companies[k]][\"Elos\"][Bin1],\n",
    "                                                                    info[companies[j]][\"Elos\"][Bin1],\n",
    "                                                                    True, info[companies[k]][\"NumWins\"][Bin1],\n",
    "                                                                    info[companies[k]][\"NumLoss\"][Bin1])\n",
    "                        info[companies[k]][\"NumWins\"][Bin1] +=1\n",
    "                        currentProfit += val2-val1\n",
    "                        profits.append(currentProfit)\n",
    "    previousDate = currentDate\n",
    "    currentInfo = copy.deepcopy(info)\n",
    "print (profits)"
   ]
  },
  {
   "cell_type": "code",
   "execution_count": 280,
   "metadata": {},
   "outputs": [
    {
     "data": {
      "text/plain": [
       "Text(0, 0.5, 'Profits')"
      ]
     },
     "execution_count": 280,
     "metadata": {},
     "output_type": "execute_result"
    },
    {
     "data": {
      "image/png": "[encoded data removed]",
      "text/plain": [
       "<Figure size 432x288 with 1 Axes>"
      ]
     },
     "metadata": {
      "needs_background": "light"
     },
     "output_type": "display_data"
    }
   ],
   "source": [
    "length = len(profits)\n",
    "timesteps = [i for i in range(length)]\n",
    "plt.plot(timesteps, profits)\n",
    "plt.xlabel('Stock Backtest')\n",
    "plt.ylabel('Profits')"
   ]
  },
  {
   "cell_type": "code",
   "execution_count": 281,
   "metadata": {},
   "outputs": [
    {
     "name": "stdout",
     "output_type": "stream",
     "text": [
      "GE\n",
      "[1198.5426808075042, 1126.977278453091, 1139.8463204513682, 1183.630806008389, 1192.1138246701744, 1214.3104736811238, 1201.4104885084466, 1215.0957174130035, 1189.883242592688, 1166.978661754803, 1131.3559926478697, 1343.0361546971, 1180.2527779144389]\n",
      "[25, 5, 12, 26, 54, 132, 173, 103, 54, 22, 9, 9, 16]\n",
      "[36, 4, 9, 26, 39, 115, 180, 133, 59, 29, 11, 1, 20]\n",
      "GOOG\n",
      "[1199.9723776099804, 1313.338556496186, 1149.0189993865533, 1179.1926620742047, 1160.0612786992508, 1222.0976209240853, 1238.4352224783659, 1233.7809617258931, 1215.871746855432, 1127.025574225592, 1158.4654393055705, 1124.7923101072088, 1178.1088447854634]\n",
      "[22, 7, 11, 21, 45, 105, 183, 130, 71, 37, 10, 6, 15]\n",
      "[21, 1, 11, 27, 52, 121, 162, 106, 51, 37, 7, 7, 20]\n",
      "HMC\n",
      "[1192.5548346919868, 1076.3128846911595, 1136.2166230825273, 1168.592549604097, 1157.4897591055567, 1209.3850782607071, 1197.476432151071, 1263.441918388768, 1197.428951528194, 1244.793964427438, 1158.553790216502, 1036.2744141098892, 1173.6274378594128]\n",
      "[29, 2, 9, 21, 45, 94, 124, 117, 47, 29, 6, 1, 14]\n",
      "[22, 8, 16, 27, 42, 102, 168, 96, 70, 24, 19, 5, 24]\n",
      "AAPL\n",
      "[1224.7259859159485, 1285.3881822838941, 1186.5321887715647, 1208.649135453446, 1147.3919331166824, 1248.2464449821214, 1208.5199824598446, 1262.11505260856, 1230.0812819927744, 1189.7440491125503, 1278.8070035128765, 1095.53005196829, 1223.271460494946]\n",
      "[26, 3, 15, 30, 38, 100, 173, 90, 55, 32, 16, 2, 34]\n",
      "[23, 4, 11, 18, 49, 93, 143, 105, 47, 30, 4, 5, 15]\n"
     ]
    }
   ],
   "source": [
    "for key in info:\n",
    "    print (key)\n",
    "    print(info[key][\"Elos\"])\n",
    "    print(info[key][\"NumWins\"])\n",
    "    print(info[key][\"NumLoss\"])"
   ]
  },
  {
   "cell_type": "code",
   "execution_count": 332,
   "metadata": {},
   "outputs": [],
   "source": [
    "#time to play around with elos\n",
    "def newElos(myElo, opsElo, matchWon):\n",
    "    newElo = 0\n",
    "    deltaElo = myElo-opsElo\n",
    "    if matchWon:\n",
    "        differenceMultiplier = (-deltaElo+150)/150 if deltaElo < 0 else 1/((deltaElo+150)/150)\n",
    "        newElo = myElo + 8*differenceMultiplier\n",
    "        newElo = min(myElo+150,newElo)\n",
    "    else:\n",
    "        differenceMultiplier = (deltaElo+150)/150 if deltaElo > 0 else 1/((-deltaElo+150)/150)\n",
    "        newElo = myElo - 8*differenceMultiplier\n",
    "        newElo = max(myElo-150,newElo)\n",
    "    #print(newElo)\n",
    "    return newElo"
   ]
  },
  {
   "cell_type": "code",
   "execution_count": 333,
   "metadata": {},
   "outputs": [
    {
     "data": {
      "image/png": "[encoded data removed]",
      "text/plain": [
       "<Figure size 432x288 with 1 Axes>"
      ]
     },
     "metadata": {
      "needs_background": "light"
     },
     "output_type": "display_data"
    }
   ],
   "source": [
    "player1 = 1200\n",
    "player2 = 1200\n",
    "play1 = [1200]\n",
    "play2 = [1200]\n",
    "results = [[1200,1200]]\n",
    "for i in range(100000):\n",
    "    play1Wins = True\n",
    "    newNum = random.randint(1,10)\n",
    "    if newNum == 1:\n",
    "        play1Wins = False\n",
    "    copy = player1\n",
    "    player1 = newElos(player1,player2,play1Wins)\n",
    "    player2 = newElos(player2,copy,not play1Wins)\n",
    "    results.append([player1,player2])\n",
    "    play1.append(player1)\n",
    "    play2.append(player2)\n",
    "\n",
    "for i in range(10000):\n",
    "    play1Wins = True\n",
    "    newNum = random.randint(1,4)\n",
    "    if newNum == 1:\n",
    "        play1Wins = False\n",
    "    copy = player1\n",
    "    player1 = newElos(player1,player2,play1Wins)\n",
    "    player2 = newElos(player2,copy,not play1Wins)\n",
    "    results.append([player1,player2])\n",
    "    play1.append(player1)\n",
    "    play2.append(player2)\n",
    "\n",
    "\n",
    "#print(results)\n",
    "#print(results[-1])\n",
    "plt.plot(play1)\n",
    "plt.plot(play2)\n",
    "plt.show()"
   ]
  },
  {
   "cell_type": "code",
   "execution_count": 331,
   "metadata": {},
   "outputs": [
    {
     "data": {
      "text/plain": [
       "[<matplotlib.lines.Line2D at 0x121c02358>]"
      ]
     },
     "execution_count": 331,
     "metadata": {},
     "output_type": "execute_result"
    },
    {
     "data": {
      "image/png": "[encoded data removed]",
      "text/plain": [
       "<Figure size 432x288 with 1 Axes>"
      ]
     },
     "metadata": {
      "needs_background": "light"
     },
     "output_type": "display_data"
    }
   ],
   "source": [
    "ratings = []\n",
    "changeInRatings = []\n",
    "currentRating = 1200\n",
    "for i in range(2500):\n",
    "    ratings.append(i)\n",
    "    newplayer1 = newElos(1200,i,False)\n",
    "    changeInRatings.append(newplayer1-1200)\n",
    "    \n",
    "plt.plot(ratings,changeInRatings)"
   ]
  },
  {
   "cell_type": "code",
   "execution_count": 1,
   "metadata": {},
   "outputs": [],
   "source": [
    "import pandas as pd\n",
    "import numpy as np"
   ]
  },
  {
   "cell_type": "code",
   "execution_count": 2,
   "metadata": {},
   "outputs": [
    {
     "data": {
      "text/html": [
       "<div>\n",
       "<style scoped>\n",
       "    .dataframe tbody tr th:only-of-type {\n",
       "        vertical-align: middle;\n",
       "    }\n",
       "\n",
       "    .dataframe tbody tr th {\n",
       "        vertical-align: top;\n",
       "    }\n",
       "\n",
       "    .dataframe thead th {\n",
       "        text-align: right;\n",
       "    }\n",
       "</style>\n",
       "<table border=\"1\" class=\"dataframe\">\n",
       "  <thead>\n",
       "    <tr style=\"text-align: right;\">\n",
       "      <th></th>\n",
       "      <th>Date</th>\n",
       "      <th>Open</th>\n",
       "      <th>High</th>\n",
       "      <th>Low</th>\n",
       "      <th>Close</th>\n",
       "      <th>Adj Close</th>\n",
       "      <th>Volume</th>\n",
       "    </tr>\n",
       "  </thead>\n",
       "  <tbody>\n",
       "    <tr>\n",
       "      <th>0</th>\n",
       "      <td>2009-01-02</td>\n",
       "      <td>12.268572</td>\n",
       "      <td>13.005714</td>\n",
       "      <td>12.165714</td>\n",
       "      <td>12.964286</td>\n",
       "      <td>8.644626</td>\n",
       "      <td>186503800</td>\n",
       "    </tr>\n",
       "    <tr>\n",
       "      <th>1</th>\n",
       "      <td>2009-01-05</td>\n",
       "      <td>13.310000</td>\n",
       "      <td>13.740000</td>\n",
       "      <td>13.244286</td>\n",
       "      <td>13.511429</td>\n",
       "      <td>9.009460</td>\n",
       "      <td>295402100</td>\n",
       "    </tr>\n",
       "    <tr>\n",
       "      <th>2</th>\n",
       "      <td>2009-01-06</td>\n",
       "      <td>13.707143</td>\n",
       "      <td>13.881429</td>\n",
       "      <td>13.198571</td>\n",
       "      <td>13.288571</td>\n",
       "      <td>8.860859</td>\n",
       "      <td>322327600</td>\n",
       "    </tr>\n",
       "    <tr>\n",
       "      <th>3</th>\n",
       "      <td>2009-01-07</td>\n",
       "      <td>13.115714</td>\n",
       "      <td>13.214286</td>\n",
       "      <td>12.894286</td>\n",
       "      <td>13.001429</td>\n",
       "      <td>8.669391</td>\n",
       "      <td>188262200</td>\n",
       "    </tr>\n",
       "    <tr>\n",
       "      <th>4</th>\n",
       "      <td>2009-01-08</td>\n",
       "      <td>12.918571</td>\n",
       "      <td>13.307143</td>\n",
       "      <td>12.862857</td>\n",
       "      <td>13.242857</td>\n",
       "      <td>8.830378</td>\n",
       "      <td>168375200</td>\n",
       "    </tr>\n",
       "  </tbody>\n",
       "</table>\n",
       "</div>"
      ],
      "text/plain": [
       "         Date       Open       High        Low      Close  Adj Close  \\\n",
       "0  2009-01-02  12.268572  13.005714  12.165714  12.964286   8.644626   \n",
       "1  2009-01-05  13.310000  13.740000  13.244286  13.511429   9.009460   \n",
       "2  2009-01-06  13.707143  13.881429  13.198571  13.288571   8.860859   \n",
       "3  2009-01-07  13.115714  13.214286  12.894286  13.001429   8.669391   \n",
       "4  2009-01-08  12.918571  13.307143  12.862857  13.242857   8.830378   \n",
       "\n",
       "      Volume  \n",
       "0  186503800  \n",
       "1  295402100  \n",
       "2  322327600  \n",
       "3  188262200  \n",
       "4  168375200  "
      ]
     },
     "execution_count": 2,
     "metadata": {},
     "output_type": "execute_result"
    }
   ],
   "source": [
    "aapl = pd.read_csv(\"Stocks/AAPL.csv\")\n",
    "aapl.head()"
   ]
  },
  {
   "cell_type": "code",
   "execution_count": 29,
   "metadata": {},
   "outputs": [],
   "source": [
    "def returns(directory, stock):\n",
    "    df = pd.read_csv(os.path.join(directory, stock), usecols=[\"Date\", \"Adj Close\"], parse_dates=True)\n",
    "    df[\"daily_returns\"] = df[\"Adj Close\"].diff().astype(\"float64\")\n",
    "    df[\"daily_returns\"] = 100 * df[\"daily_returns\"] / df[\"Adj Close\"].shift(1)\n",
    "    df[\"5_day_returns\"] = df[\"daily_returns\"].rolling(5).apply(lambda x: 100 * (np.prod(1 + x / 100) - 1), raw=False).astype(\"float64\")\n",
    "    df[\"Date\"] = df[\"Date\"].astype(str)\n",
    "    df.dropna(inplace=True)\n",
    "    df.drop(columns=\"Adj Close\", inplace=True)\n",
    "    df.columns = [stock[:-4] + \"_\" + col if col != \"Date\" else col for col in df.columns]\n",
    "    return df"
   ]
  },
  {
   "cell_type": "code",
   "execution_count": 38,
   "metadata": {},
   "outputs": [],
   "source": [
    "#merge all stocks together\n",
    "directory = \"SP500Stocks\"\n",
    "files = os.listdir(directory)\n",
    "master = returns(directory,files[0])\n",
    "\n",
    "for filename in files[1:]:\n",
    "    if \"csv\" in filename:\n",
    "        master = master.merge(returns(directory,filename), on=\"Date\")"
   ]
  },
  {
   "cell_type": "code",
   "execution_count": null,
   "metadata": {},
   "outputs": [],
   "source": []
  }
 ],
 "metadata": {
  "kernelspec": {
   "display_name": "Python 3",
   "language": "python",
   "name": "python3"
  },
  "language_info": {
   "codemirror_mode": {
    "name": "ipython",
    "version": 3
   },
   "file_extension": ".py",
   "mimetype": "text/x-python",
   "name": "python",
   "nbconvert_exporter": "python",
   "pygments_lexer": "ipython3",
   "version": "3.7.2"
  }
 },
 "nbformat": 4,
 "nbformat_minor": 2
}
