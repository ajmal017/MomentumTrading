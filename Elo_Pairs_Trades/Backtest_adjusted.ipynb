{
 "cells": [
  {
   "cell_type": "code",
   "execution_count": 67,
   "metadata": {},
   "outputs": [],
   "source": [
    "import math\n",
    "import json\n",
    "import csv\n",
    "import pandas as pd\n",
    "import numpy as np\n",
    "import matplotlib.mlab as mlab\n",
    "import matplotlib.pyplot as plt\n",
    "import os\n",
    "import glob\n",
    "import datetime\n",
    "import copy\n",
    "import random"
   ]
  },
  {
   "cell_type": "code",
   "execution_count": 2,
   "metadata": {},
   "outputs": [],
   "source": [
    "# returns daily return history, list of dates, daily ewma of returns\n",
    "def ewma_returns(stocks):\n",
    "    dates = set()\n",
    "    filenames = []\n",
    "    #for filename in os.listdir(\"./SP500Stocks\"):\n",
    "    for filename in os.listdir(\"./Top25Stocks\"):\n",
    "        if len(stocks) == 0:\n",
    "            if \"csv\" in filename:\n",
    "                filenames.append(filename)\n",
    "        else:\n",
    "            if \"csv\" in filename and filename[:-4] in stocks:\n",
    "                filenames.append(filename)\n",
    "    #format for consolidate info is {name: {dates: {date, open}, }}\n",
    "    Histories = {}\n",
    "    Exp_weighted = {}\n",
    "    for file in filenames:\n",
    "        \n",
    "        #with open(\"SP500Stocks/\"+file, 'r') as f:\n",
    "        with open(\"Top25Stocks/\"+file, 'r') as f: \n",
    "            reader = csv.reader(f)\n",
    "            next(reader)  # gets the first line\n",
    "            previousClose = next(reader)[4]\n",
    "            \n",
    "            history = {}\n",
    "\n",
    "            for row in reader:\n",
    "\n",
    "                dates.add(row[0])\n",
    "     \n",
    "                try:\n",
    "                    # daily return\n",
    "                    history[row[0]] = (float(row[4])-float(previousClose))/float(previousClose)*100\n",
    "                except:\n",
    "                    pass\n",
    "                previousClose = row[4]\n",
    "                \n",
    "                \n",
    "            # calculate ewma of daily returns\n",
    "            df = pd.DataFrame(data = history, index = ['returns']).transpose()\n",
    "            exp_avg=df.ewm(span = 30, min_periods=30, ignore_na=True).mean()\n",
    "            \n",
    "            #isolate values and dates and zip them into dictionary\n",
    "            exp_avg = exp_avg['returns'].values\n",
    "            a = list(df.index)\n",
    "            exp_avg_dict = {}\n",
    "            exp_avg_dict = dict(zip(a,exp_avg))\n",
    "            \n",
    "            # remove nan entries (all values less than window size are nan)\n",
    "            pop_list = []\n",
    "            for key in exp_avg_dict.keys():\n",
    "                if math.isnan(exp_avg_dict[key]):\n",
    "                    pop_list.append(key)  \n",
    "            for key in pop_list:\n",
    "                exp_avg_dict.pop(key)\n",
    "\n",
    "            \n",
    "            Exp_weighted[file[:-4]] = exp_avg_dict\n",
    "            \n",
    "            Histories[file[:-4]] = history\n",
    "            \n",
    "            \n",
    "            \n",
    "    sortedDates = [date for date in dates]\n",
    "    sortedDates = sorted(sortedDates, key=lambda x: datetime.datetime.strptime(x, '%Y-%m-%d'))\n",
    "    return Histories, sortedDates, Exp_weighted\n"
   ]
  },
  {
   "cell_type": "code",
   "execution_count": 95,
   "metadata": {},
   "outputs": [],
   "source": [
    "a,b,c = ewma_returns([])"
   ]
  },
  {
   "cell_type": "code",
   "execution_count": 96,
   "metadata": {},
   "outputs": [
    {
     "name": "stdout",
     "output_type": "stream",
     "text": [
      "2017-03-31\n"
     ]
    }
   ],
   "source": [
    "print(b[1900])"
   ]
  },
  {
   "cell_type": "code",
   "execution_count": 4,
   "metadata": {},
   "outputs": [],
   "source": [
    "# same function as above except 30 day moving average instead of ewma\n",
    "def ma_returns(stocks):\n",
    "    dates = set()\n",
    "    filenames = []\n",
    "    #for filename in os.listdir(\"./SP500Stocks\"):\n",
    "    for filename in os.listdir(\"./Top25Stocks\"):\n",
    "        if len(stocks) == 0:\n",
    "            if \"csv\" in filename:\n",
    "                filenames.append(filename)\n",
    "        else:\n",
    "            if \"csv\" in filename and filename[:-4] in stocks:\n",
    "                filenames.append(filename)\n",
    "    #format for consolidate info is {name: {dates: {date, open}, }}\n",
    "    Histories = {}\n",
    "    normal_weighted = {}\n",
    "    for file in filenames:\n",
    "        \n",
    "        #with open(\"SP500Stocks/\"+file, 'r') as f:\n",
    "        with open(\"Top25Stocks/\"+file, 'r') as f: \n",
    "            reader = csv.reader(f)\n",
    "            next(reader)  # gets the first line\n",
    "            previousClose = next(reader)[4]\n",
    "            \n",
    "            history = {}\n",
    "\n",
    "            for row in reader:\n",
    "\n",
    "                dates.add(row[0])\n",
    "                try:\n",
    "                    # get daily returns\n",
    "                    history[row[0]] = (float(row[4])-float(previousClose))/float(previousClose)*100\n",
    "                except:\n",
    "                    pass\n",
    "                previousClose = row[4]\n",
    "                \n",
    "                \n",
    "            # calculate moving average of daily returns\n",
    "            df = pd.DataFrame(data = history, index = ['returns']).transpose()\n",
    "            mov_avg=df.rolling(30, min_periods=30).mean()\n",
    "            \n",
    "            # get values and dates and combine into dictionary\n",
    "            mov_avg = mov_avg['returns'].values\n",
    "            a = list(df.index)\n",
    "            mov_avg_dict = {}\n",
    "            mov_avg_dict = dict(zip(a,mov_avg))\n",
    "            \n",
    "            # remove nan values (anything smaller than 30)\n",
    "            pop_list = []  \n",
    "            for key in mov_avg_dict.keys():\n",
    "                if math.isnan(mov_avg_dict[key]):\n",
    "                    pop_list.append(key)     \n",
    "            for key in pop_list:\n",
    "                mov_avg_dict.pop(key)\n",
    "\n",
    "            \n",
    "            normal_weighted[file[:-4]] = mov_avg_dict\n",
    "            \n",
    "            Histories[file[:-4]] = history\n",
    "            \n",
    "             \n",
    "            \n",
    "    sortedDates = [date for date in dates]\n",
    "    sortedDates = sorted(sortedDates, key=lambda x: datetime.datetime.strptime(x, '%Y-%m-%d'))\n",
    "    return Histories, sortedDates, normal_weighted\n",
    "\n",
    "q,r,s = ma_returns([])\n"
   ]
  },
  {
   "cell_type": "code",
   "execution_count": 88,
   "metadata": {},
   "outputs": [],
   "source": [
    "import statistics as st\n",
    "# sharpe ratio\n",
    "def sharpe(portfolio):\n",
    "    daily_percent_return = []\n",
    "    for i in range(1,len(portfolio)):\n",
    "        daily_return = (portfolio[i]-portfolio[i-1])/portfolio[i-1]\n",
    "        daily_percent_return.append(daily_return)\n",
    "        \n",
    "    stdev = st.pstdev(daily_percent_return)\n",
    "    annualized_vol = math.sqrt(252) * stdev\n",
    "    \n",
    "    total_return = (portfolio[-1]-portfolio[0])/portfolio[0] \n",
    "    annualized_return = (1+total_return) ** (252/len(portfolio)) - 1\n",
    "        \n",
    "    return annualized_return/annualized_vol, annualized_return, annualized_vol\n",
    "\n",
    "# sortino ratio\n",
    "def sortino(portfolio):\n",
    "    daily_percent_return = []\n",
    "    for i in range(1,len(portfolio)):\n",
    "        daily_return = (portfolio[i]-portfolio[i-1])/portfolio[i-1]\n",
    "        daily_percent_return.append(daily_return)\n",
    "        \n",
    "    # sortino only cares about downside vol\n",
    "    daily_negative_return = []\n",
    "    for i in (daily_percent_return):\n",
    "        if i < 0:\n",
    "            daily_negative_return.append(i)\n",
    "            \n",
    "    stdev = st.pstdev(daily_negative_return)\n",
    "    annualized_vol = math.sqrt(252) * stdev\n",
    "    \n",
    "    total_return = (portfolio[-1]-portfolio[0])/portfolio[0] \n",
    "    annualized_return = (1+total_return) ** (252/len(portfolio)) - 1\n",
    "        \n",
    "    return (annualized_return)/annualized_vol"
   ]
  },
  {
   "cell_type": "code",
   "execution_count": 98,
   "metadata": {},
   "outputs": [],
   "source": [
    "# final returns function corrected for percentile, trade cutoffs\n",
    "def highest_returns4(input_dict,input_returns,percentile, num_std_dev, mean, sigma):\n",
    "    \n",
    "    portfolio = 100\n",
    "    portfolio_tracker = []\n",
    "    \n",
    "    for date in input_dict['AAPL'].keys():\n",
    "        date_index = b.index(date)\n",
    "        \n",
    "        # backtest only on last 500 days\n",
    "        if date_index > 1900:\n",
    "            \n",
    "            daily_returns_dict = {}\n",
    "            long_trading_list = []\n",
    "            short_trading_list = []\n",
    "            try:\n",
    "                for ticker in input_dict.keys():\n",
    "                    daily_pct_return = input_dict[ticker][date]\n",
    "                    daily_returns_dict[ticker] = daily_pct_return\n",
    "            except:\n",
    "                pass\n",
    "        \n",
    "            float_list = []\n",
    "        \n",
    "            for i in daily_returns_dict.keys():\n",
    "                float_list.append(float(daily_returns_dict[i]))\n",
    "            \n",
    "            for i in daily_returns_dict.keys():\n",
    "                \n",
    "                #check percentile\n",
    "                if float(daily_returns_dict[i]) >np.percentile(float_list, percentile):\n",
    "                    #check cutoff\n",
    "                    if float(daily_returns_dict[i]) > mean + num_std_dev*sigma:                        \n",
    "                        long_trading_list.append(i)\n",
    "                \n",
    "                    \n",
    "            \n",
    "                \n",
    "            trades = len(long_trading_list) + len(short_trading_list) #not shorting anymore\n",
    "            \n",
    "            try:\n",
    "                trade_cap = portfolio/trades\n",
    "            except:\n",
    "                continue #if 0 trades\n",
    "            \n",
    "            total = 0\n",
    "            try:\n",
    "                date_index = b.index(date)\n",
    "                new_date = b[date_index+1]\n",
    "                \n",
    "                # calculate daily returns\n",
    "                for i in long_trading_list:\n",
    "                    total += trade_cap *(1+float(input_returns[i][new_date])/100)\n",
    "                for i in short_trading_list:\n",
    "                    total += trade_cap *(1-float(input_returns[i][new_date])/100)\n",
    "                \n",
    "            except:\n",
    "                pass\n",
    "            portfolio_tracker.append(total)\n",
    "            portfolio = total\n",
    "            \n",
    "    # last value is 0 by how indexing was done       \n",
    "    return portfolio_tracker[:-1]"
   ]
  },
  {
   "cell_type": "code",
   "execution_count": 55,
   "metadata": {},
   "outputs": [],
   "source": [
    "# same as ewma but takes in window size - used for training in other file\n",
    "def ewma_returns1(stocks,window_size):\n",
    "    dates = set()\n",
    "    filenames = []\n",
    "    #for filename in os.listdir(\"./SP500Stocks\"):\n",
    "    for filename in os.listdir(\"./Top25Stocks\"):\n",
    "        if len(stocks) == 0:\n",
    "            if \"csv\" in filename:\n",
    "                filenames.append(filename)\n",
    "        else:\n",
    "            if \"csv\" in filename and filename[:-4] in stocks:\n",
    "                filenames.append(filename)\n",
    "    #format for consolidate info is {name: {dates: {date, open}, }}\n",
    "    Histories = {}\n",
    "    Exp_weighted = {}\n",
    "    for file in filenames:\n",
    "        \n",
    "        #with open(\"SP500Stocks/Filtered/\"+file, 'r') as f:\n",
    "        with open(\"Top25Stocks/\"+file, 'r') as f: \n",
    "            reader = csv.reader(f)\n",
    "            next(reader)  # gets the first line\n",
    "            previousClose = next(reader)[4]\n",
    "            \n",
    "            history = {}\n",
    "\n",
    "            for row in reader:\n",
    "\n",
    "                dates.add(row[0])\n",
    "     \n",
    "                try:\n",
    "                    history[row[0]] = (float(row[4])-float(previousClose))/float(previousClose)*100\n",
    "                except:\n",
    "                    pass\n",
    "                previousClose = row[4]\n",
    "                \n",
    "                \n",
    "                \n",
    "            df = pd.DataFrame(data = history, index = ['returns']).transpose() \n",
    "            exp_avg=df.ewm(span = window_size, min_periods=window_size, ignore_na=True).mean()\n",
    "            \n",
    "            \n",
    "            exp_avg = exp_avg['returns'].values\n",
    "            a = list(df.index)\n",
    "            exp_avg_dict = {}\n",
    "            exp_avg_dict = dict(zip(a,exp_avg))\n",
    "            \n",
    "            pop_list = []\n",
    "            \n",
    "            for key in exp_avg_dict.keys():\n",
    "                if math.isnan(exp_avg_dict[key]):\n",
    "                    pop_list.append(key)\n",
    "                    \n",
    "            for key in pop_list:\n",
    "                exp_avg_dict.pop(key)\n",
    "\n",
    "            \n",
    "            Exp_weighted[file[:-4]] = exp_avg_dict\n",
    "            \n",
    "            Histories[file[:-4]] = history\n",
    "            \n",
    "              \n",
    "            \n",
    "    sortedDates = [date for date in dates]\n",
    "    sortedDates = sorted(sortedDates, key=lambda x: datetime.datetime.strptime(x, '%Y-%m-%d'))\n",
    "    return Histories, sortedDates, Exp_weighted"
   ]
  },
  {
   "cell_type": "code",
   "execution_count": 97,
   "metadata": {},
   "outputs": [
    {
     "name": "stdout",
     "output_type": "stream",
     "text": [
      "121.04734486450528\n"
     ]
    }
   ],
   "source": [
    "#backtest on top 25 stocks\n",
    "def backtest(window_size, percentile, num_std, mean, sigma):\n",
    "    back_a, back_b, back_c = ewma_returns1([],window_size)\n",
    "    results = highest_returns4(back_c, back_a, percentile, num_std, mean, sigma)\n",
    "    return results\n",
    "\n",
    "mean = 0.19568180057740556\n",
    "sigma = 0.15384828954401814\n",
    "results = backtest(30,70,0, mean, sigma)\n",
    "print(results[-1])"
   ]
  },
  {
   "cell_type": "code",
   "execution_count": 89,
   "metadata": {},
   "outputs": [
    {
     "name": "stdout",
     "output_type": "stream",
     "text": [
      "0.6276008344812313\n",
      "0.0980962338069622\n",
      "0.15630354266186977\n",
      "0.7410346637482624\n"
     ]
    }
   ],
   "source": [
    "a,b,c = (sharpe(results))\n",
    "print(a)\n",
    "print(b)\n",
    "print(c)\n",
    "print(sortino(results))"
   ]
  },
  {
   "cell_type": "code",
   "execution_count": 86,
   "metadata": {},
   "outputs": [
    {
     "data": {
      "text/plain": [
       "Text(0, 0.5, 'Profits')"
      ]
     },
     "execution_count": 86,
     "metadata": {},
     "output_type": "execute_result"
    },
    {
     "data": {
      "image/png": "[encoded data removed]",
      "text/plain": [
       "<Figure size 432x288 with 1 Axes>"
      ]
     },
     "metadata": {
      "needs_background": "light"
     },
     "output_type": "display_data"
    }
   ],
   "source": [
    "length = len(results)\n",
    "timesteps = [j for j in range(length)]\n",
    "plt.plot(timesteps, results)\n",
    "plt.xlabel('EWMA Backtest on Top S&P Stocks')\n",
    "plt.ylabel('Profits')"
   ]
  },
  {
   "cell_type": "code",
   "execution_count": 58,
   "metadata": {},
   "outputs": [
    {
     "name": "stdout",
     "output_type": "stream",
     "text": [
      "111.78900303661307\n"
     ]
    }
   ],
   "source": [
    "#backtest simple moving average strategy\n",
    "def backtest(percentile, num_std, mean, sigma):\n",
    "    back_a, back_b, back_c = ma_returns([])\n",
    "    results = highest_returns4(back_c, back_a, percentile, num_std, mean, sigma)\n",
    "    return results\n",
    "\n",
    "mean = 0.19568180057740556\n",
    "sigma = 0.15384828954401814\n",
    "results = backtest(80,0, mean, sigma)\n",
    "print(results[-1])"
   ]
  },
  {
   "cell_type": "code",
   "execution_count": 62,
   "metadata": {},
   "outputs": [
    {
     "name": "stdout",
     "output_type": "stream",
     "text": [
      "0.36426625906588916\n",
      "0.45366571510656833\n"
     ]
    }
   ],
   "source": [
    "print(sharpe(results))\n",
    "print(sortino(results))"
   ]
  },
  {
   "cell_type": "code",
   "execution_count": 60,
   "metadata": {},
   "outputs": [
    {
     "data": {
      "text/plain": [
       "Text(0, 0.5, 'Profits')"
      ]
     },
     "execution_count": 60,
     "metadata": {},
     "output_type": "execute_result"
    },
    {
     "data": {
      "image/png": "[encoded data removed]",
      "text/plain": [
       "<Figure size 432x288 with 1 Axes>"
      ]
     },
     "metadata": {
      "needs_background": "light"
     },
     "output_type": "display_data"
    }
   ],
   "source": [
    "length = len(results)\n",
    "timesteps = [j for j in range(length)]\n",
    "plt.plot(timesteps, results)\n",
    "plt.xlabel('MA Backtest on Top S&P Stocks')\n",
    "plt.ylabel('Profits')"
   ]
  },
  {
   "cell_type": "code",
   "execution_count": 64,
   "metadata": {},
   "outputs": [],
   "source": [
    "# returns daily return history, list of dates, daily ewma of returns\n",
    "def ewma_returns_sp(stocks):\n",
    "    dates = set()\n",
    "    filenames = []\n",
    "    for filename in os.listdir(\"./SP500Stocks\"):\n",
    "    #for filename in os.listdir(\"./Top25Stocks\"):\n",
    "        if len(stocks) == 0:\n",
    "            if \"csv\" in filename:\n",
    "                filenames.append(filename)\n",
    "        else:\n",
    "            if \"csv\" in filename and filename[:-4] in stocks:\n",
    "                filenames.append(filename)\n",
    "    #format for consolidate info is {name: {dates: {date, open}, }}\n",
    "    Histories = {}\n",
    "    Exp_weighted = {}\n",
    "    for file in filenames:\n",
    "        \n",
    "        with open(\"SP500Stocks/\"+file, 'r') as f:\n",
    "        #with open(\"Top25Stocks/\"+file, 'r') as f: \n",
    "            reader = csv.reader(f)\n",
    "            next(reader)  # gets the first line\n",
    "            previousClose = next(reader)[4]\n",
    "            \n",
    "            history = {}\n",
    "\n",
    "            for row in reader:\n",
    "\n",
    "                dates.add(row[0])\n",
    "     \n",
    "                try:\n",
    "                    # daily return\n",
    "                    history[row[0]] = (float(row[4])-float(previousClose))/float(previousClose)*100\n",
    "                except:\n",
    "                    pass\n",
    "                previousClose = row[4]\n",
    "                \n",
    "                \n",
    "            # calculate ewma of daily returns\n",
    "            df = pd.DataFrame(data = history, index = ['returns']).transpose()\n",
    "            exp_avg=df.ewm(span = 30, min_periods=30, ignore_na=True).mean()\n",
    "            \n",
    "            #isolate values and dates and zip them into dictionary\n",
    "            exp_avg = exp_avg['returns'].values\n",
    "            a = list(df.index)\n",
    "            exp_avg_dict = {}\n",
    "            exp_avg_dict = dict(zip(a,exp_avg))\n",
    "            \n",
    "            # remove nan entries (all values less than window size are nan)\n",
    "            pop_list = []\n",
    "            for key in exp_avg_dict.keys():\n",
    "                if math.isnan(exp_avg_dict[key]):\n",
    "                    pop_list.append(key)  \n",
    "            for key in pop_list:\n",
    "                exp_avg_dict.pop(key)\n",
    "\n",
    "            \n",
    "            Exp_weighted[file[:-4]] = exp_avg_dict\n",
    "            \n",
    "            Histories[file[:-4]] = history\n",
    "            \n",
    "            \n",
    "            \n",
    "    sortedDates = [date for date in dates]\n",
    "    sortedDates = sorted(sortedDates, key=lambda x: datetime.datetime.strptime(x, '%Y-%m-%d'))\n",
    "    return Histories, sortedDates, Exp_weighted\n"
   ]
  },
  {
   "cell_type": "code",
   "execution_count": 65,
   "metadata": {},
   "outputs": [],
   "source": [
    "sp_history, sp_dates, sp_ewma = ewma_returns_sp([])"
   ]
  },
  {
   "cell_type": "code",
   "execution_count": 74,
   "metadata": {},
   "outputs": [
    {
     "name": "stdout",
     "output_type": "stream",
     "text": [
      "60.40906817733316\n"
     ]
    }
   ],
   "source": [
    "#backtest on all stocks\n",
    "def backtest1(sp_history, sp_dates, sp_ewma, window_size, percentile, num_std, mean, sigma):\n",
    "    \n",
    "    results = highest_returns4(sp_ewma, sp_history, percentile, num_std, mean, sigma)\n",
    "    return results\n",
    "\n",
    "mean = 0.19568180057740556\n",
    "sigma = 0.15384828954401814\n",
    "results = backtest1(sp_history, sp_dates, sp_ewma, 30,80,1, mean, sigma)\n",
    "print(results[-1])"
   ]
  },
  {
   "cell_type": "code",
   "execution_count": 76,
   "metadata": {},
   "outputs": [
    {
     "name": "stdout",
     "output_type": "stream",
     "text": [
      "['NOV', 'AWK', 'VRTX', 'MSFT', 'TMO', 'HBAN', 'NOC', 'STT', 'CMCSA', 'HES', 'TPR', 'MDT', 'BHGE', 'FRT', 'UHS', 'FFIV', 'K', 'PEP', 'MSI', 'PKI', 'ADBE', 'AEP', 'MCO', 'WMT', 'VLO']\n"
     ]
    }
   ],
   "source": [
    "keys = random.sample(list(sp_ewma.keys()), 25)\n",
    "ewma_sample = {key: sp_ewma[key] for key in keys}\n",
    "return_sample = {key: sp_history[key] for key in keys}\n",
    "print(keys)"
   ]
  },
  {
   "cell_type": "code",
   "execution_count": 79,
   "metadata": {},
   "outputs": [
    {
     "name": "stdout",
     "output_type": "stream",
     "text": [
      "100.95530111113152\n"
     ]
    }
   ],
   "source": [
    "# backtest on randoms\n",
    "def backtest2(return_sample, sp_dates, ewma_sample, window_size, percentile, num_std, mean, sigma):\n",
    "    \n",
    "    results = highest_returns4(ewma_sample, return_sample, percentile, num_std, mean, sigma)\n",
    "    return results\n",
    "\n",
    "mean = 0.19568180057740556\n",
    "sigma = 0.15384828954401814\n",
    "results = backtest1(return_sample, sp_dates, ewma_sample, 30,80,0, mean, sigma)\n",
    "print(results[-1])"
   ]
  },
  {
   "cell_type": "code",
   "execution_count": 105,
   "metadata": {},
   "outputs": [
    {
     "name": "stdout",
     "output_type": "stream",
     "text": [
      "95.35734616704605\n"
     ]
    }
   ],
   "source": [
    "#backtest on whole SP \n",
    "def backtest(sp_history, sp_dates, sp_ewma,window_size, percentile, num_std, mean, sigma):\n",
    "    #back_a, back_b, back_c = ewma_returns1([],window_size)\n",
    "    results = highest_returns4(sp_ewma, sp_history, percentile, num_std, mean, sigma)\n",
    "    return results\n",
    "\n",
    "mean = 0.19568180057740556\n",
    "sigma = 0.15384828954401814\n",
    "results = backtest(sp_history, sp_dates, sp_ewma,30,95,0, 0, sigma)\n",
    "print(results[-1])"
   ]
  },
  {
   "cell_type": "code",
   "execution_count": 106,
   "metadata": {},
   "outputs": [
    {
     "data": {
      "text/plain": [
       "Text(0, 0.5, 'Profits')"
      ]
     },
     "execution_count": 106,
     "metadata": {},
     "output_type": "execute_result"
    },
    {
     "data": {
      "image/png": "[encoded data removed]",
      "text/plain": [
       "<Figure size 432x288 with 1 Axes>"
      ]
     },
     "metadata": {
      "needs_background": "light"
     },
     "output_type": "display_data"
    }
   ],
   "source": [
    "length = len(results)\n",
    "timesteps = [j for j in range(length)]\n",
    "plt.plot(timesteps, results)\n",
    "plt.xlabel('EWMA Backtest on Top S&P Stocks')\n",
    "plt.ylabel('Profits')"
   ]
  },
  {
   "cell_type": "code",
   "execution_count": null,
   "metadata": {},
   "outputs": [],
   "source": []
  }
 ],
 "metadata": {
  "kernelspec": {
   "display_name": "Python 3",
   "language": "python",
   "name": "python3"
  },
  "language_info": {
   "codemirror_mode": {
    "name": "ipython",
    "version": 3
   },
   "file_extension": ".py",
   "mimetype": "text/x-python",
   "name": "python",
   "nbconvert_exporter": "python",
   "pygments_lexer": "ipython3",
   "version": "3.6.7"
  }
 },
 "nbformat": 4,
 "nbformat_minor": 2
}
