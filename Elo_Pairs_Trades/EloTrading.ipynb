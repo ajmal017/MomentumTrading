{
 "cells": [
  {
   "cell_type": "code",
   "execution_count": 19,
   "metadata": {},
   "outputs": [],
   "source": [
    "import math\n",
    "import json\n",
    "import csv\n",
    "import pandas as pd\n",
    "import numpy as np\n",
    "import matplotlib.mlab as mlab\n",
    "import matplotlib.pyplot as plt\n",
    "import os\n",
    "import glob\n",
    "import datetime\n",
    "import copy\n",
    "from random import shuffle\n",
    "import random"
   ]
  },
  {
   "cell_type": "code",
   "execution_count": 20,
   "metadata": {},
   "outputs": [],
   "source": [
    "#one bin means no seperation\n",
    "#two bins means seperation based on up/down\n",
    "#n bins partitions [-3,3] into n-2 different equal sections with a bin for [-inf,-3] and [3,inf]\n",
    "#returns an ordered pair representing the bin\n",
    "def get2DBin(percents, numBins):\n",
    "    #hardCode 1 bin and 2 bins\n",
    "    if numBins == 1:\n",
    "        return (0,0)\n",
    "    elif numBins == 2:\n",
    "        return (int(percents[0] >0), int(percents[1]> 0))\n",
    "    else:\n",
    "        daily = 0\n",
    "        weekly = 0\n",
    "        binWidth = 6/(numBins-2)\n",
    "        binHeight = 12/(numBins-2)\n",
    "        for i in range(numBins-1):\n",
    "            if percents[0] > -3+binWidth*i:\n",
    "                daily = i+1\n",
    "            if percents[1] > -6+binHeight*i:\n",
    "                weekly = i+1\n",
    "    return daily, weekly"
   ]
  },
  {
   "cell_type": "code",
   "execution_count": 36,
   "metadata": {},
   "outputs": [],
   "source": [
    "#result is the current stocks change in percent - the ops stock change in percent\n",
    "def updateElo(currentElo, opsElo, result, flexibility):\n",
    "    variationFromResult = result-(currentElo-opsElo)\n",
    "    return currentElo + flexibility*variationFromResult"
   ]
  },
  {
   "cell_type": "code",
   "execution_count": 64,
   "metadata": {},
   "outputs": [],
   "source": [
    "#returns a dictionary each stock name is the key and value is 2d array row is 1 day, col is 5 day\n",
    "def createPlayers(directory, stocks, bins):\n",
    "    stocks_lower = [stock.lower() for stock in stocks]\n",
    "    consolidated = {}\n",
    "    if len(stocks) == 0:\n",
    "        for filename in os.listdir(directory):\n",
    "            if \"csv\" in filename:\n",
    "                consolidated[filename[:-4]] = [[0 for col in range(bins)] for row in range(bins)]\n",
    "    else:\n",
    "        for filename in os.listdir(directory):\n",
    "            if \"csv\" in filename and filename[:-4].lower() in stocks_lower:\n",
    "                consolidated[filename[:-4]] = [[0]*bins]*bins\n",
    "    return consolidated\n",
    "#createPlayers([],2)"
   ]
  },
  {
   "cell_type": "code",
   "execution_count": 65,
   "metadata": {},
   "outputs": [],
   "source": [
    "def returns(directory, stock):\n",
    "    df = pd.read_csv(os.path.join(directory, stock), usecols=[\"Date\", \"Adj Close\"], parse_dates=True)\n",
    "    df[\"daily_returns\"] = df[\"Adj Close\"].diff().astype(\"float64\")\n",
    "    df[\"daily_returns\"] = 100 * df[\"daily_returns\"] / df[\"Adj Close\"].shift(1)\n",
    "    df[\"5_day_returns\"] = df[\"daily_returns\"].rolling(5).apply(lambda x: 100 * (np.prod(1 + x / 100) - 1), raw=False).astype(\"float64\")\n",
    "    df[\"Date\"] = df[\"Date\"].astype(str)\n",
    "    df.dropna(inplace=True)\n",
    "    df.drop(columns=\"Adj Close\", inplace=True)\n",
    "    df.columns = [stock[:-4] + \"_\" + col if col != \"Date\" else col for col in df.columns]\n",
    "    return df"
   ]
  },
  {
   "cell_type": "code",
   "execution_count": 66,
   "metadata": {},
   "outputs": [
    {
     "data": {
      "text/plain": [
       "(2408, 23)"
      ]
     },
     "execution_count": 66,
     "metadata": {},
     "output_type": "execute_result"
    }
   ],
   "source": [
    "#merge all stocks together\n",
    "directory = \"SmallStocks\"\n",
    "files = os.listdir(directory)\n",
    "master = returns(directory,files[0])\n",
    "\n",
    "for filename in files[1:]:\n",
    "    if \"csv\" in filename:\n",
    "        master = master.merge(returns(directory,filename), on=\"Date\")\n",
    "master.head()\n",
    "master.shape"
   ]
  },
  {
   "cell_type": "code",
   "execution_count": 76,
   "metadata": {},
   "outputs": [],
   "source": [
    "##Now for the main script\n",
    "#lets see our profits if we bet same amount every single time on the favorite\n",
    "def binary_unweighted_bet_strat(master,stocks, bins, flexibility):\n",
    "    players = createPlayers(\"./SmallStocks\",stocks, bins)\n",
    "    trading_stocks = players.keys()\n",
    "    #daily profits are the cumulative profits we have each day from all of our trades\n",
    "    #day profits are profits that we have within each day weighted by how much money we put on\n",
    "    #since this strat is unweighted for now we will set all the weights to be 1\n",
    "    daily_profits = [0]\n",
    "    \n",
    "    for i in range(master.shape[0]-1):\n",
    "        players_n = copy.deepcopy(players)\n",
    "        totalCollisions = 0\n",
    "        day_profits = []\n",
    "        \n",
    "        for stock_1 in trading_stocks:\n",
    "            numCollisions = 0\n",
    "            newElo = 0\n",
    "            bin_1 = get2DBin((master.iloc[i][stock_1+\"_daily_returns\"],master.iloc[i][stock_1+\"_5_day_returns\"]), bins)\n",
    "            a = bin_1[0]\n",
    "            b = bin_1[1]\n",
    "            \n",
    "            for stock_2 in trading_stocks:\n",
    "                bin_2 = get2DBin((master.iloc[i][stock_2+\"_daily_returns\"],master.iloc[i][stock_2+\"_5_day_returns\"]), bins)\n",
    "                \n",
    "                \n",
    "                #the meat of the program happens in here\n",
    "                if stock_1 != stock_2 and bin_1 == bin_2:\n",
    "                    expected_result = players[stock_1][a][b]-players[stock_2][a][b]\n",
    "                    result = master.iloc[i+1][stock_1+\"_daily_returns\"]-master.iloc[i][stock_2+\"_daily_returns\"]\n",
    "                    numCollisions +=1\n",
    "                    \n",
    "                    #bet on company 1\n",
    "                    if expected_result > 0:\n",
    "                        day_profits.append((result,1))\n",
    "                    #bet on company 2\n",
    "                    else:\n",
    "                        day_profits.append((-result,1))\n",
    "\n",
    "                    newElo += updateElo(players[stock_1][a][b],\n",
    "                                        players[stock_2][a][b], result,.01)\n",
    "                    #print(stock_1)\n",
    "                    #print(stock_2)\n",
    "                    #print()\n",
    "            if numCollisions != 0:\n",
    "                players_n[stock_1][a][b] = newElo/numCollisions\n",
    "                totalCollisions += numCollisions\n",
    "                \n",
    "                #continue\n",
    "                #print(stock_1)\n",
    "                #print(master.iloc[i][stock_1+\"_daily_returns\"])\n",
    "                #print(master.iloc[i][stock_1+\"_5_day_returns\"])\n",
    "        players = players_n\n",
    "        #calculate overall profit\n",
    "        weighted = 0\n",
    "        total = 0.00001\n",
    "        for pair in day_profits:\n",
    "            weighted += pair[0]*pair[1]\n",
    "            total += pair[1]\n",
    "        daily_profits.append(daily_profits[-1]+weighted/total)\n",
    "        #print(players)\n",
    "        #print(daily_profits)\n",
    "        #print()\n",
    "        #return\n",
    "        #print (i)\n",
    "    return(daily_profits)\n",
    "returns5 = binary_unweighted_bet_strat(master, [],5,.01)      "
   ]
  },
  {
   "cell_type": "code",
   "execution_count": 77,
   "metadata": {},
   "outputs": [
    {
     "data": {
      "text/plain": [
       "[<matplotlib.lines.Line2D at 0x11f1018d0>]"
      ]
     },
     "execution_count": 77,
     "metadata": {},
     "output_type": "execute_result"
    },
    {
     "data": {
      "image/png": "[encoded data removed]",
      "text/plain": [
       "<Figure size 432x288 with 1 Axes>"
      ]
     },
     "metadata": {
      "needs_background": "light"
     },
     "output_type": "display_data"
    }
   ],
   "source": [
    "plt.plot(returns)"
   ]
  },
  {
   "cell_type": "code",
   "execution_count": 80,
   "metadata": {},
   "outputs": [],
   "source": [
    "returns1 = binary_unweighted_bet_strat(master,[],1,.01)"
   ]
  },
  {
   "cell_type": "code",
   "execution_count": 81,
   "metadata": {},
   "outputs": [
    {
     "data": {
      "text/plain": [
       "[<matplotlib.lines.Line2D at 0x11fdb5f60>]"
      ]
     },
     "execution_count": 81,
     "metadata": {},
     "output_type": "execute_result"
    },
    {
     "data": {
      "image/png": "[encoded data removed]",
      "text/plain": [
       "<Figure size 432x288 with 1 Axes>"
      ]
     },
     "metadata": {
      "needs_background": "light"
     },
     "output_type": "display_data"
    }
   ],
   "source": [
    "plt.plot(returns1)"
   ]
  },
  {
   "cell_type": "code",
   "execution_count": null,
   "metadata": {},
   "outputs": [],
   "source": [
    "returns2 = binary_unweighted_bet_strat(master,[],2,.01)\n",
    "returns3 = binary_unweighted_bet_strat(master,[],3,.01)\n",
    "returns4 = binary_unweighted_bet_"
   ]
  }
 ],
 "metadata": {
  "kernelspec": {
   "display_name": "Python 3",
   "language": "python",
   "name": "python3"
  },
  "language_info": {
   "codemirror_mode": {
    "name": "ipython",
    "version": 3
   },
   "file_extension": ".py",
   "mimetype": "text/x-python",
   "name": "python",
   "nbconvert_exporter": "python",
   "pygments_lexer": "ipython3",
   "version": "3.7.2"
  }
 },
 "nbformat": 4,
 "nbformat_minor": 2
}
